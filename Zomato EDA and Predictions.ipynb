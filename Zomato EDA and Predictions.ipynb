{
 "cells": [
  {
   "cell_type": "markdown",
   "id": "e025d1ab",
   "metadata": {},
   "source": [
    "# Zomato Bangaluru Prediction"
   ]
  },
  {
   "cell_type": "code",
   "execution_count": 1,
   "id": "f41e8549",
   "metadata": {},
   "outputs": [],
   "source": [
    "from IPython.display import Image\n",
    "from IPython.core.display import HTML "
   ]
  },
  {
   "cell_type": "code",
   "execution_count": 123,
   "id": "9dfb9068",
   "metadata": {},
   "outputs": [
    {
     "data": {
      "text/html": [
       "<img src=\"https://www.google.com/imgres?imgurl=https%3A%2F%2Fblog.ipleaders.in%2Fwp-content%2Fuploads%2F2021%2F08%2Fzomato-infinity-dining-916x516-1.jpg&imgrefurl=https%3A%2F%2Fblog.ipleaders.in%2Flegal-formalities-for-registering-a-restaurant-on-zomato%2F&tbnid=V8H-4gXRvqYTVM&vet=12ahUKEwiQ7LKK5e75AhWsi9gFHZssDa4QMygLegUIARDxAQ..i&docid=mVL3LQdcUVs5eM&w=916&h=516&q=zomato&ved=2ahUKEwiQ7LKK5e75AhWsi9gFHZssDa4QMygLegUIARDxAQ\"/>"
      ],
      "text/plain": [
       "<IPython.core.display.Image object>"
      ]
     },
     "execution_count": 123,
     "metadata": {},
     "output_type": "execute_result"
    }
   ],
   "source": [
    "Image(url='https://www.google.com/imgres?imgurl=https%3A%2F%2Fblog.ipleaders.in%2Fwp-content%2Fuploads%2F2021%2F08%2Fzomato-infinity-dining-916x516-1.jpg&imgrefurl=https%3A%2F%2Fblog.ipleaders.in%2Flegal-formalities-for-registering-a-restaurant-on-zomato%2F&tbnid=V8H-4gXRvqYTVM&vet=12ahUKEwiQ7LKK5e75AhWsi9gFHZssDa4QMygLegUIARDxAQ..i&docid=mVL3LQdcUVs5eM&w=916&h=516&q=zomato&ved=2ahUKEwiQ7LKK5e75AhWsi9gFHZssDa4QMygLegUIARDxAQ')"
   ]
  },
  {
   "cell_type": "markdown",
   "id": "c4fe91b5",
   "metadata": {},
   "source": [
    "# Import Necessary Libraries"
   ]
  },
  {
   "cell_type": "code",
   "execution_count": 3,
   "id": "7329c583",
   "metadata": {},
   "outputs": [
    {
     "name": "stderr",
     "output_type": "stream",
     "text": [
      "/Users/a/opt/anaconda3/lib/python3.8/site-packages/google/colab/data_table.py:30: UserWarning:\n",
      "\n",
      "IPython.utils.traitlets has moved to a top-level traitlets package.\n",
      "\n"
     ]
    },
    {
     "data": {
      "text/html": [
       "        <script type=\"text/javascript\">\n",
       "        window.PlotlyConfig = {MathJaxConfig: 'local'};\n",
       "        if (window.MathJax) {MathJax.Hub.Config({SVG: {font: \"STIX-Web\"}});}\n",
       "        if (typeof require !== 'undefined') {\n",
       "        require.undef(\"plotly\");\n",
       "        requirejs.config({\n",
       "            paths: {\n",
       "                'plotly': ['https://cdn.plot.ly/plotly-2.4.2.min']\n",
       "            }\n",
       "        });\n",
       "        require(['plotly'], function(Plotly) {\n",
       "            window._Plotly = Plotly;\n",
       "        });\n",
       "        }\n",
       "        </script>\n",
       "        "
      ]
     },
     "metadata": {},
     "output_type": "display_data"
    }
   ],
   "source": [
    "import pandas as pd\n",
    "import numpy as np\n",
    "import seaborn as sns\n",
    "import matplotlib.pyplot as plt\n",
    "%matplotlib inline\n",
    "import plotly.offline as py\n",
    "py.init_notebook_mode(connected=True)\n",
    "import plotly.graph_objs as go\n",
    "import plotly.tools as tls\n",
    "import plotly.figure_factory as ff"
   ]
  },
  {
   "cell_type": "code",
   "execution_count": 4,
   "id": "94908624",
   "metadata": {},
   "outputs": [
    {
     "data": {
      "text/html": [
       "<div>\n",
       "<style scoped>\n",
       "    .dataframe tbody tr th:only-of-type {\n",
       "        vertical-align: middle;\n",
       "    }\n",
       "\n",
       "    .dataframe tbody tr th {\n",
       "        vertical-align: top;\n",
       "    }\n",
       "\n",
       "    .dataframe thead th {\n",
       "        text-align: right;\n",
       "    }\n",
       "</style>\n",
       "<table border=\"1\" class=\"dataframe\">\n",
       "  <thead>\n",
       "    <tr style=\"text-align: right;\">\n",
       "      <th></th>\n",
       "      <th>url</th>\n",
       "      <th>address</th>\n",
       "      <th>name</th>\n",
       "      <th>online_order</th>\n",
       "      <th>book_table</th>\n",
       "      <th>rate</th>\n",
       "      <th>votes</th>\n",
       "      <th>phone</th>\n",
       "      <th>location</th>\n",
       "      <th>rest_type</th>\n",
       "      <th>dish_liked</th>\n",
       "      <th>cuisines</th>\n",
       "      <th>approx_cost(for two people)</th>\n",
       "      <th>reviews_list</th>\n",
       "      <th>menu_item</th>\n",
       "      <th>listed_in(type)</th>\n",
       "      <th>listed_in(city)</th>\n",
       "    </tr>\n",
       "  </thead>\n",
       "  <tbody>\n",
       "    <tr>\n",
       "      <th>0</th>\n",
       "      <td>https://www.zomato.com/bangalore/jalsa-banasha...</td>\n",
       "      <td>942, 21st Main Road, 2nd Stage, Banashankari, ...</td>\n",
       "      <td>Jalsa</td>\n",
       "      <td>Yes</td>\n",
       "      <td>Yes</td>\n",
       "      <td>4.1/5</td>\n",
       "      <td>775</td>\n",
       "      <td>080 42297555\\r\\n+91 9743772233</td>\n",
       "      <td>Banashankari</td>\n",
       "      <td>Casual Dining</td>\n",
       "      <td>Pasta, Lunch Buffet, Masala Papad, Paneer Laja...</td>\n",
       "      <td>North Indian, Mughlai, Chinese</td>\n",
       "      <td>800</td>\n",
       "      <td>[('Rated 4.0', 'RATED\\n  A beautiful place to ...</td>\n",
       "      <td>[]</td>\n",
       "      <td>Buffet</td>\n",
       "      <td>Banashankari</td>\n",
       "    </tr>\n",
       "    <tr>\n",
       "      <th>1</th>\n",
       "      <td>https://www.zomato.com/bangalore/spice-elephan...</td>\n",
       "      <td>2nd Floor, 80 Feet Road, Near Big Bazaar, 6th ...</td>\n",
       "      <td>Spice Elephant</td>\n",
       "      <td>Yes</td>\n",
       "      <td>No</td>\n",
       "      <td>4.1/5</td>\n",
       "      <td>787</td>\n",
       "      <td>080 41714161</td>\n",
       "      <td>Banashankari</td>\n",
       "      <td>Casual Dining</td>\n",
       "      <td>Momos, Lunch Buffet, Chocolate Nirvana, Thai G...</td>\n",
       "      <td>Chinese, North Indian, Thai</td>\n",
       "      <td>800</td>\n",
       "      <td>[('Rated 4.0', 'RATED\\n  Had been here for din...</td>\n",
       "      <td>[]</td>\n",
       "      <td>Buffet</td>\n",
       "      <td>Banashankari</td>\n",
       "    </tr>\n",
       "    <tr>\n",
       "      <th>2</th>\n",
       "      <td>https://www.zomato.com/SanchurroBangalore?cont...</td>\n",
       "      <td>1112, Next to KIMS Medical College, 17th Cross...</td>\n",
       "      <td>San Churro Cafe</td>\n",
       "      <td>Yes</td>\n",
       "      <td>No</td>\n",
       "      <td>3.8/5</td>\n",
       "      <td>918</td>\n",
       "      <td>+91 9663487993</td>\n",
       "      <td>Banashankari</td>\n",
       "      <td>Cafe, Casual Dining</td>\n",
       "      <td>Churros, Cannelloni, Minestrone Soup, Hot Choc...</td>\n",
       "      <td>Cafe, Mexican, Italian</td>\n",
       "      <td>800</td>\n",
       "      <td>[('Rated 3.0', \"RATED\\n  Ambience is not that ...</td>\n",
       "      <td>[]</td>\n",
       "      <td>Buffet</td>\n",
       "      <td>Banashankari</td>\n",
       "    </tr>\n",
       "    <tr>\n",
       "      <th>3</th>\n",
       "      <td>https://www.zomato.com/bangalore/addhuri-udupi...</td>\n",
       "      <td>1st Floor, Annakuteera, 3rd Stage, Banashankar...</td>\n",
       "      <td>Addhuri Udupi Bhojana</td>\n",
       "      <td>No</td>\n",
       "      <td>No</td>\n",
       "      <td>3.7/5</td>\n",
       "      <td>88</td>\n",
       "      <td>+91 9620009302</td>\n",
       "      <td>Banashankari</td>\n",
       "      <td>Quick Bites</td>\n",
       "      <td>Masala Dosa</td>\n",
       "      <td>South Indian, North Indian</td>\n",
       "      <td>300</td>\n",
       "      <td>[('Rated 4.0', \"RATED\\n  Great food and proper...</td>\n",
       "      <td>[]</td>\n",
       "      <td>Buffet</td>\n",
       "      <td>Banashankari</td>\n",
       "    </tr>\n",
       "    <tr>\n",
       "      <th>4</th>\n",
       "      <td>https://www.zomato.com/bangalore/grand-village...</td>\n",
       "      <td>10, 3rd Floor, Lakshmi Associates, Gandhi Baza...</td>\n",
       "      <td>Grand Village</td>\n",
       "      <td>No</td>\n",
       "      <td>No</td>\n",
       "      <td>3.8/5</td>\n",
       "      <td>166</td>\n",
       "      <td>+91 8026612447\\r\\n+91 9901210005</td>\n",
       "      <td>Basavanagudi</td>\n",
       "      <td>Casual Dining</td>\n",
       "      <td>Panipuri, Gol Gappe</td>\n",
       "      <td>North Indian, Rajasthani</td>\n",
       "      <td>600</td>\n",
       "      <td>[('Rated 4.0', 'RATED\\n  Very good restaurant ...</td>\n",
       "      <td>[]</td>\n",
       "      <td>Buffet</td>\n",
       "      <td>Banashankari</td>\n",
       "    </tr>\n",
       "  </tbody>\n",
       "</table>\n",
       "</div>"
      ],
      "text/plain": [
       "                                                 url  \\\n",
       "0  https://www.zomato.com/bangalore/jalsa-banasha...   \n",
       "1  https://www.zomato.com/bangalore/spice-elephan...   \n",
       "2  https://www.zomato.com/SanchurroBangalore?cont...   \n",
       "3  https://www.zomato.com/bangalore/addhuri-udupi...   \n",
       "4  https://www.zomato.com/bangalore/grand-village...   \n",
       "\n",
       "                                             address                   name  \\\n",
       "0  942, 21st Main Road, 2nd Stage, Banashankari, ...                  Jalsa   \n",
       "1  2nd Floor, 80 Feet Road, Near Big Bazaar, 6th ...         Spice Elephant   \n",
       "2  1112, Next to KIMS Medical College, 17th Cross...        San Churro Cafe   \n",
       "3  1st Floor, Annakuteera, 3rd Stage, Banashankar...  Addhuri Udupi Bhojana   \n",
       "4  10, 3rd Floor, Lakshmi Associates, Gandhi Baza...          Grand Village   \n",
       "\n",
       "  online_order book_table   rate  votes                             phone  \\\n",
       "0          Yes        Yes  4.1/5    775    080 42297555\\r\\n+91 9743772233   \n",
       "1          Yes         No  4.1/5    787                      080 41714161   \n",
       "2          Yes         No  3.8/5    918                    +91 9663487993   \n",
       "3           No         No  3.7/5     88                    +91 9620009302   \n",
       "4           No         No  3.8/5    166  +91 8026612447\\r\\n+91 9901210005   \n",
       "\n",
       "       location            rest_type  \\\n",
       "0  Banashankari        Casual Dining   \n",
       "1  Banashankari        Casual Dining   \n",
       "2  Banashankari  Cafe, Casual Dining   \n",
       "3  Banashankari          Quick Bites   \n",
       "4  Basavanagudi        Casual Dining   \n",
       "\n",
       "                                          dish_liked  \\\n",
       "0  Pasta, Lunch Buffet, Masala Papad, Paneer Laja...   \n",
       "1  Momos, Lunch Buffet, Chocolate Nirvana, Thai G...   \n",
       "2  Churros, Cannelloni, Minestrone Soup, Hot Choc...   \n",
       "3                                        Masala Dosa   \n",
       "4                                Panipuri, Gol Gappe   \n",
       "\n",
       "                         cuisines approx_cost(for two people)  \\\n",
       "0  North Indian, Mughlai, Chinese                         800   \n",
       "1     Chinese, North Indian, Thai                         800   \n",
       "2          Cafe, Mexican, Italian                         800   \n",
       "3      South Indian, North Indian                         300   \n",
       "4        North Indian, Rajasthani                         600   \n",
       "\n",
       "                                        reviews_list menu_item  \\\n",
       "0  [('Rated 4.0', 'RATED\\n  A beautiful place to ...        []   \n",
       "1  [('Rated 4.0', 'RATED\\n  Had been here for din...        []   \n",
       "2  [('Rated 3.0', \"RATED\\n  Ambience is not that ...        []   \n",
       "3  [('Rated 4.0', \"RATED\\n  Great food and proper...        []   \n",
       "4  [('Rated 4.0', 'RATED\\n  Very good restaurant ...        []   \n",
       "\n",
       "  listed_in(type) listed_in(city)  \n",
       "0          Buffet    Banashankari  \n",
       "1          Buffet    Banashankari  \n",
       "2          Buffet    Banashankari  \n",
       "3          Buffet    Banashankari  \n",
       "4          Buffet    Banashankari  "
      ]
     },
     "execution_count": 4,
     "metadata": {},
     "output_type": "execute_result"
    }
   ],
   "source": [
    "df = pd.read_csv('zomato.csv')\n",
    "df.head()"
   ]
  },
  {
   "cell_type": "markdown",
   "id": "eb5db7f9",
   "metadata": {},
   "source": [
    "### Column Description\n",
    "\n",
    "* url : contains the url of the restaurant in the zomato website\n",
    "* address : contains the address of the restaurant in Bengaluru\n",
    "* name : contains the name of the restaurant\n",
    "* online_order : whether online ordering is available in the restaurant or not\n",
    "* book_table : table book option available or not\n",
    "* rate : contains the overall rating of the restaurant out of 5\n",
    "* votes : contains total number of rating for the restaurant as of the above mentioned date\n",
    "* phone : contains the phone number of the restaurant\n",
    "* location : contains the neighborhood in which the restaurant is located\n",
    "* rest_type : restaurant type\n",
    "* dish_liked : dishes people liked in the restaurant\n",
    "* cuisines : food styles, separated by comma\n",
    "* cost_two : contains the approximate cost for meal for two people\n",
    "* reviews_list : list of tuples containing reviews for the restaurant, each tuple\n",
    "* menu_item : contains list of menus available in the restaurant\n",
    "* service_type : type of meal\n",
    "* serve_to : contains the neighborhood in which the restaurant is listed"
   ]
  },
  {
   "cell_type": "code",
   "execution_count": 5,
   "id": "087da87d",
   "metadata": {},
   "outputs": [
    {
     "data": {
      "text/plain": [
       "(51717, 17)"
      ]
     },
     "execution_count": 5,
     "metadata": {},
     "output_type": "execute_result"
    }
   ],
   "source": [
    "df.shape"
   ]
  },
  {
   "cell_type": "code",
   "execution_count": 6,
   "id": "2e5dbef9",
   "metadata": {},
   "outputs": [
    {
     "name": "stdout",
     "output_type": "stream",
     "text": [
      "<class 'pandas.core.frame.DataFrame'>\n",
      "RangeIndex: 51717 entries, 0 to 51716\n",
      "Data columns (total 17 columns):\n",
      " #   Column                       Non-Null Count  Dtype \n",
      "---  ------                       --------------  ----- \n",
      " 0   url                          51717 non-null  object\n",
      " 1   address                      51717 non-null  object\n",
      " 2   name                         51717 non-null  object\n",
      " 3   online_order                 51717 non-null  object\n",
      " 4   book_table                   51717 non-null  object\n",
      " 5   rate                         43942 non-null  object\n",
      " 6   votes                        51717 non-null  int64 \n",
      " 7   phone                        50509 non-null  object\n",
      " 8   location                     51696 non-null  object\n",
      " 9   rest_type                    51490 non-null  object\n",
      " 10  dish_liked                   23639 non-null  object\n",
      " 11  cuisines                     51672 non-null  object\n",
      " 12  approx_cost(for two people)  51371 non-null  object\n",
      " 13  reviews_list                 51717 non-null  object\n",
      " 14  menu_item                    51717 non-null  object\n",
      " 15  listed_in(type)              51717 non-null  object\n",
      " 16  listed_in(city)              51717 non-null  object\n",
      "dtypes: int64(1), object(16)\n",
      "memory usage: 6.7+ MB\n"
     ]
    }
   ],
   "source": [
    "df.info()"
   ]
  },
  {
   "cell_type": "markdown",
   "id": "97e86d30",
   "metadata": {},
   "source": [
    "## Checking for missing values"
   ]
  },
  {
   "cell_type": "code",
   "execution_count": 7,
   "id": "fe4156c7",
   "metadata": {},
   "outputs": [
    {
     "data": {
      "text/plain": [
       "url                                0\n",
       "address                            0\n",
       "name                               0\n",
       "online_order                       0\n",
       "book_table                         0\n",
       "rate                            7775\n",
       "votes                              0\n",
       "phone                           1208\n",
       "location                          21\n",
       "rest_type                        227\n",
       "dish_liked                     28078\n",
       "cuisines                          45\n",
       "approx_cost(for two people)      346\n",
       "reviews_list                       0\n",
       "menu_item                          0\n",
       "listed_in(type)                    0\n",
       "listed_in(city)                    0\n",
       "dtype: int64"
      ]
     },
     "execution_count": 7,
     "metadata": {},
     "output_type": "execute_result"
    }
   ],
   "source": [
    "df.isnull().sum()"
   ]
  },
  {
   "cell_type": "code",
   "execution_count": 9,
   "id": "8eb36bac",
   "metadata": {},
   "outputs": [
    {
     "data": {
      "text/plain": [
       "['rate',\n",
       " 'phone',\n",
       " 'location',\n",
       " 'rest_type',\n",
       " 'dish_liked',\n",
       " 'cuisines',\n",
       " 'approx_cost(for two people)']"
      ]
     },
     "execution_count": 9,
     "metadata": {},
     "output_type": "execute_result"
    }
   ],
   "source": [
    "[features for features in df.columns if df[features].isnull().sum()>0]"
   ]
  },
  {
   "cell_type": "code",
   "execution_count": 10,
   "id": "0582ab36",
   "metadata": {},
   "outputs": [],
   "source": [
    "#Another way to check miising values"
   ]
  },
  {
   "cell_type": "code",
   "execution_count": 11,
   "id": "121f7e50",
   "metadata": {},
   "outputs": [
    {
     "data": {
      "text/html": [
       "<div>\n",
       "<style scoped>\n",
       "    .dataframe tbody tr th:only-of-type {\n",
       "        vertical-align: middle;\n",
       "    }\n",
       "\n",
       "    .dataframe tbody tr th {\n",
       "        vertical-align: top;\n",
       "    }\n",
       "\n",
       "    .dataframe thead th {\n",
       "        text-align: right;\n",
       "    }\n",
       "</style>\n",
       "<table border=\"1\" class=\"dataframe\">\n",
       "  <thead>\n",
       "    <tr style=\"text-align: right;\">\n",
       "      <th></th>\n",
       "      <th>Missing</th>\n",
       "    </tr>\n",
       "  </thead>\n",
       "  <tbody>\n",
       "    <tr>\n",
       "      <th>url</th>\n",
       "      <td>0.000</td>\n",
       "    </tr>\n",
       "    <tr>\n",
       "      <th>address</th>\n",
       "      <td>0.000</td>\n",
       "    </tr>\n",
       "    <tr>\n",
       "      <th>name</th>\n",
       "      <td>0.000</td>\n",
       "    </tr>\n",
       "    <tr>\n",
       "      <th>online_order</th>\n",
       "      <td>0.000</td>\n",
       "    </tr>\n",
       "    <tr>\n",
       "      <th>book_table</th>\n",
       "      <td>0.000</td>\n",
       "    </tr>\n",
       "    <tr>\n",
       "      <th>rate</th>\n",
       "      <td>15.034</td>\n",
       "    </tr>\n",
       "    <tr>\n",
       "      <th>votes</th>\n",
       "      <td>0.000</td>\n",
       "    </tr>\n",
       "    <tr>\n",
       "      <th>phone</th>\n",
       "      <td>2.336</td>\n",
       "    </tr>\n",
       "    <tr>\n",
       "      <th>location</th>\n",
       "      <td>0.041</td>\n",
       "    </tr>\n",
       "    <tr>\n",
       "      <th>rest_type</th>\n",
       "      <td>0.439</td>\n",
       "    </tr>\n",
       "    <tr>\n",
       "      <th>dish_liked</th>\n",
       "      <td>54.292</td>\n",
       "    </tr>\n",
       "    <tr>\n",
       "      <th>cuisines</th>\n",
       "      <td>0.087</td>\n",
       "    </tr>\n",
       "    <tr>\n",
       "      <th>approx_cost(for two people)</th>\n",
       "      <td>0.669</td>\n",
       "    </tr>\n",
       "    <tr>\n",
       "      <th>reviews_list</th>\n",
       "      <td>0.000</td>\n",
       "    </tr>\n",
       "    <tr>\n",
       "      <th>menu_item</th>\n",
       "      <td>0.000</td>\n",
       "    </tr>\n",
       "    <tr>\n",
       "      <th>listed_in(type)</th>\n",
       "      <td>0.000</td>\n",
       "    </tr>\n",
       "    <tr>\n",
       "      <th>listed_in(city)</th>\n",
       "      <td>0.000</td>\n",
       "    </tr>\n",
       "  </tbody>\n",
       "</table>\n",
       "</div>"
      ],
      "text/plain": [
       "                             Missing\n",
       "url                            0.000\n",
       "address                        0.000\n",
       "name                           0.000\n",
       "online_order                   0.000\n",
       "book_table                     0.000\n",
       "rate                          15.034\n",
       "votes                          0.000\n",
       "phone                          2.336\n",
       "location                       0.041\n",
       "rest_type                      0.439\n",
       "dish_liked                    54.292\n",
       "cuisines                       0.087\n",
       "approx_cost(for two people)    0.669\n",
       "reviews_list                   0.000\n",
       "menu_item                      0.000\n",
       "listed_in(type)                0.000\n",
       "listed_in(city)                0.000"
      ]
     },
     "execution_count": 11,
     "metadata": {},
     "output_type": "execute_result"
    }
   ],
   "source": [
    "pd.DataFrame(round(df.isnull().sum()/df.shape[0] * 100,3), columns = ['Missing'])"
   ]
  },
  {
   "cell_type": "markdown",
   "id": "58e02a75",
   "metadata": {},
   "source": [
    "* The variable dish_liked has more than 50% of the missing data. If we drop the data we would lose 50% of the data.\n",
    "\n",
    "* To simplify the analysis we are going to drop some of the unecessary columns url, address, phone."
   ]
  },
  {
   "cell_type": "code",
   "execution_count": 12,
   "id": "3e45ee7c",
   "metadata": {},
   "outputs": [],
   "source": [
    "df.drop(['url', 'address', 'phone'], axis=1, inplace = True)"
   ]
  },
  {
   "cell_type": "code",
   "execution_count": 13,
   "id": "3a9be2eb",
   "metadata": {},
   "outputs": [],
   "source": [
    "# Renaming the column name"
   ]
  },
  {
   "cell_type": "code",
   "execution_count": 19,
   "id": "0b53d07e",
   "metadata": {},
   "outputs": [],
   "source": [
    "df.rename(columns = { 'approx_cost(for two people)' : 'cost_for_two' , 'listed_in(type)' : 'service_type', 'listed_in(city)' : 'serve_to'},inplace=True)"
   ]
  },
  {
   "cell_type": "code",
   "execution_count": 20,
   "id": "72b71776",
   "metadata": {},
   "outputs": [
    {
     "data": {
      "text/html": [
       "<div>\n",
       "<style scoped>\n",
       "    .dataframe tbody tr th:only-of-type {\n",
       "        vertical-align: middle;\n",
       "    }\n",
       "\n",
       "    .dataframe tbody tr th {\n",
       "        vertical-align: top;\n",
       "    }\n",
       "\n",
       "    .dataframe thead th {\n",
       "        text-align: right;\n",
       "    }\n",
       "</style>\n",
       "<table border=\"1\" class=\"dataframe\">\n",
       "  <thead>\n",
       "    <tr style=\"text-align: right;\">\n",
       "      <th></th>\n",
       "      <th>name</th>\n",
       "      <th>online_order</th>\n",
       "      <th>book_table</th>\n",
       "      <th>rate</th>\n",
       "      <th>votes</th>\n",
       "      <th>location</th>\n",
       "      <th>rest_type</th>\n",
       "      <th>dish_liked</th>\n",
       "      <th>cuisines</th>\n",
       "      <th>cost_for_two</th>\n",
       "      <th>reviews_list</th>\n",
       "      <th>menu_item</th>\n",
       "      <th>service_type</th>\n",
       "      <th>serve_to</th>\n",
       "    </tr>\n",
       "  </thead>\n",
       "  <tbody>\n",
       "    <tr>\n",
       "      <th>0</th>\n",
       "      <td>Jalsa</td>\n",
       "      <td>Yes</td>\n",
       "      <td>Yes</td>\n",
       "      <td>4.1/5</td>\n",
       "      <td>775</td>\n",
       "      <td>Banashankari</td>\n",
       "      <td>Casual Dining</td>\n",
       "      <td>Pasta, Lunch Buffet, Masala Papad, Paneer Laja...</td>\n",
       "      <td>North Indian, Mughlai, Chinese</td>\n",
       "      <td>800</td>\n",
       "      <td>[('Rated 4.0', 'RATED\\n  A beautiful place to ...</td>\n",
       "      <td>[]</td>\n",
       "      <td>Buffet</td>\n",
       "      <td>Banashankari</td>\n",
       "    </tr>\n",
       "    <tr>\n",
       "      <th>1</th>\n",
       "      <td>Spice Elephant</td>\n",
       "      <td>Yes</td>\n",
       "      <td>No</td>\n",
       "      <td>4.1/5</td>\n",
       "      <td>787</td>\n",
       "      <td>Banashankari</td>\n",
       "      <td>Casual Dining</td>\n",
       "      <td>Momos, Lunch Buffet, Chocolate Nirvana, Thai G...</td>\n",
       "      <td>Chinese, North Indian, Thai</td>\n",
       "      <td>800</td>\n",
       "      <td>[('Rated 4.0', 'RATED\\n  Had been here for din...</td>\n",
       "      <td>[]</td>\n",
       "      <td>Buffet</td>\n",
       "      <td>Banashankari</td>\n",
       "    </tr>\n",
       "    <tr>\n",
       "      <th>2</th>\n",
       "      <td>San Churro Cafe</td>\n",
       "      <td>Yes</td>\n",
       "      <td>No</td>\n",
       "      <td>3.8/5</td>\n",
       "      <td>918</td>\n",
       "      <td>Banashankari</td>\n",
       "      <td>Cafe, Casual Dining</td>\n",
       "      <td>Churros, Cannelloni, Minestrone Soup, Hot Choc...</td>\n",
       "      <td>Cafe, Mexican, Italian</td>\n",
       "      <td>800</td>\n",
       "      <td>[('Rated 3.0', \"RATED\\n  Ambience is not that ...</td>\n",
       "      <td>[]</td>\n",
       "      <td>Buffet</td>\n",
       "      <td>Banashankari</td>\n",
       "    </tr>\n",
       "    <tr>\n",
       "      <th>3</th>\n",
       "      <td>Addhuri Udupi Bhojana</td>\n",
       "      <td>No</td>\n",
       "      <td>No</td>\n",
       "      <td>3.7/5</td>\n",
       "      <td>88</td>\n",
       "      <td>Banashankari</td>\n",
       "      <td>Quick Bites</td>\n",
       "      <td>Masala Dosa</td>\n",
       "      <td>South Indian, North Indian</td>\n",
       "      <td>300</td>\n",
       "      <td>[('Rated 4.0', \"RATED\\n  Great food and proper...</td>\n",
       "      <td>[]</td>\n",
       "      <td>Buffet</td>\n",
       "      <td>Banashankari</td>\n",
       "    </tr>\n",
       "    <tr>\n",
       "      <th>4</th>\n",
       "      <td>Grand Village</td>\n",
       "      <td>No</td>\n",
       "      <td>No</td>\n",
       "      <td>3.8/5</td>\n",
       "      <td>166</td>\n",
       "      <td>Basavanagudi</td>\n",
       "      <td>Casual Dining</td>\n",
       "      <td>Panipuri, Gol Gappe</td>\n",
       "      <td>North Indian, Rajasthani</td>\n",
       "      <td>600</td>\n",
       "      <td>[('Rated 4.0', 'RATED\\n  Very good restaurant ...</td>\n",
       "      <td>[]</td>\n",
       "      <td>Buffet</td>\n",
       "      <td>Banashankari</td>\n",
       "    </tr>\n",
       "  </tbody>\n",
       "</table>\n",
       "</div>"
      ],
      "text/plain": [
       "                    name online_order book_table   rate  votes      location  \\\n",
       "0                  Jalsa          Yes        Yes  4.1/5    775  Banashankari   \n",
       "1         Spice Elephant          Yes         No  4.1/5    787  Banashankari   \n",
       "2        San Churro Cafe          Yes         No  3.8/5    918  Banashankari   \n",
       "3  Addhuri Udupi Bhojana           No         No  3.7/5     88  Banashankari   \n",
       "4          Grand Village           No         No  3.8/5    166  Basavanagudi   \n",
       "\n",
       "             rest_type                                         dish_liked  \\\n",
       "0        Casual Dining  Pasta, Lunch Buffet, Masala Papad, Paneer Laja...   \n",
       "1        Casual Dining  Momos, Lunch Buffet, Chocolate Nirvana, Thai G...   \n",
       "2  Cafe, Casual Dining  Churros, Cannelloni, Minestrone Soup, Hot Choc...   \n",
       "3          Quick Bites                                        Masala Dosa   \n",
       "4        Casual Dining                                Panipuri, Gol Gappe   \n",
       "\n",
       "                         cuisines cost_for_two  \\\n",
       "0  North Indian, Mughlai, Chinese          800   \n",
       "1     Chinese, North Indian, Thai          800   \n",
       "2          Cafe, Mexican, Italian          800   \n",
       "3      South Indian, North Indian          300   \n",
       "4        North Indian, Rajasthani          600   \n",
       "\n",
       "                                        reviews_list menu_item service_type  \\\n",
       "0  [('Rated 4.0', 'RATED\\n  A beautiful place to ...        []       Buffet   \n",
       "1  [('Rated 4.0', 'RATED\\n  Had been here for din...        []       Buffet   \n",
       "2  [('Rated 3.0', \"RATED\\n  Ambience is not that ...        []       Buffet   \n",
       "3  [('Rated 4.0', \"RATED\\n  Great food and proper...        []       Buffet   \n",
       "4  [('Rated 4.0', 'RATED\\n  Very good restaurant ...        []       Buffet   \n",
       "\n",
       "       serve_to  \n",
       "0  Banashankari  \n",
       "1  Banashankari  \n",
       "2  Banashankari  \n",
       "3  Banashankari  \n",
       "4  Banashankari  "
      ]
     },
     "execution_count": 20,
     "metadata": {},
     "output_type": "execute_result"
    }
   ],
   "source": [
    "df.head()"
   ]
  },
  {
   "cell_type": "code",
   "execution_count": 21,
   "id": "f8a655d0",
   "metadata": {},
   "outputs": [
    {
     "name": "stdout",
     "output_type": "stream",
     "text": [
      "<class 'pandas.core.frame.DataFrame'>\n",
      "RangeIndex: 51717 entries, 0 to 51716\n",
      "Data columns (total 14 columns):\n",
      " #   Column        Non-Null Count  Dtype \n",
      "---  ------        --------------  ----- \n",
      " 0   name          51717 non-null  object\n",
      " 1   online_order  51717 non-null  object\n",
      " 2   book_table    51717 non-null  object\n",
      " 3   rate          43942 non-null  object\n",
      " 4   votes         51717 non-null  int64 \n",
      " 5   location      51696 non-null  object\n",
      " 6   rest_type     51490 non-null  object\n",
      " 7   dish_liked    23639 non-null  object\n",
      " 8   cuisines      51672 non-null  object\n",
      " 9   cost_for_two  51371 non-null  object\n",
      " 10  reviews_list  51717 non-null  object\n",
      " 11  menu_item     51717 non-null  object\n",
      " 12  service_type  51717 non-null  object\n",
      " 13  serve_to      51717 non-null  object\n",
      "dtypes: int64(1), object(13)\n",
      "memory usage: 5.5+ MB\n"
     ]
    }
   ],
   "source": [
    "df.info()"
   ]
  },
  {
   "cell_type": "markdown",
   "id": "2d1b1ab2",
   "metadata": {},
   "source": [
    "# Exploratory Data Analysis"
   ]
  },
  {
   "cell_type": "markdown",
   "id": "56cd4b2b",
   "metadata": {},
   "source": [
    "* In rate column the data type shows object.To convert variable to float we could simply do astype(float).But in     this case it is a comma or / seperated numbers eg:3.8/5\n",
    "* To avoid this problem we are using lambda and replace function to convert it into float."
   ]
  },
  {
   "cell_type": "code",
   "execution_count": 23,
   "id": "1adab435",
   "metadata": {},
   "outputs": [
    {
     "data": {
      "text/plain": [
       "array(['4.1/5', '3.8/5', '3.7/5', '3.6/5', '4.6/5', '4.0/5', '4.2/5',\n",
       "       '3.9/5', '3.1/5', '3.0/5', '3.2/5', '3.3/5', '2.8/5', '4.4/5',\n",
       "       '4.3/5', 'NEW', '2.9/5', '3.5/5', nan, '2.6/5', '3.8 /5', '3.4/5',\n",
       "       '4.5/5', '2.5/5', '2.7/5', '4.7/5', '2.4/5', '2.2/5', '2.3/5',\n",
       "       '3.4 /5', '-', '3.6 /5', '4.8/5', '3.9 /5', '4.2 /5', '4.0 /5',\n",
       "       '4.1 /5', '3.7 /5', '3.1 /5', '2.9 /5', '3.3 /5', '2.8 /5',\n",
       "       '3.5 /5', '2.7 /5', '2.5 /5', '3.2 /5', '2.6 /5', '4.5 /5',\n",
       "       '4.3 /5', '4.4 /5', '4.9/5', '2.1/5', '2.0/5', '1.8/5', '4.6 /5',\n",
       "       '4.9 /5', '3.0 /5', '4.8 /5', '2.3 /5', '4.7 /5', '2.4 /5',\n",
       "       '2.1 /5', '2.2 /5', '2.0 /5', '1.8 /5'], dtype=object)"
      ]
     },
     "execution_count": 23,
     "metadata": {},
     "output_type": "execute_result"
    }
   ],
   "source": [
    "df.rate.unique()"
   ]
  },
  {
   "cell_type": "markdown",
   "id": "eb6dd082",
   "metadata": {},
   "source": [
    "* We need to reply the NEW & - value from the rate column into NaN value to convert the object data type to str."
   ]
  },
  {
   "cell_type": "code",
   "execution_count": 24,
   "id": "1a1eb298",
   "metadata": {},
   "outputs": [],
   "source": [
    "\n",
    "df['rate'] = df.rate.replace('NEW', np.NaN)\n",
    "df['rate'] = df.rate.replace('-', np.NaN)\n",
    "df.rate = df.rate.astype(str)\n"
   ]
  },
  {
   "cell_type": "code",
   "execution_count": 25,
   "id": "608620c6",
   "metadata": {},
   "outputs": [
    {
     "data": {
      "text/html": [
       "<div>\n",
       "<style scoped>\n",
       "    .dataframe tbody tr th:only-of-type {\n",
       "        vertical-align: middle;\n",
       "    }\n",
       "\n",
       "    .dataframe tbody tr th {\n",
       "        vertical-align: top;\n",
       "    }\n",
       "\n",
       "    .dataframe thead th {\n",
       "        text-align: right;\n",
       "    }\n",
       "</style>\n",
       "<table border=\"1\" class=\"dataframe\">\n",
       "  <thead>\n",
       "    <tr style=\"text-align: right;\">\n",
       "      <th></th>\n",
       "      <th>name</th>\n",
       "      <th>online_order</th>\n",
       "      <th>book_table</th>\n",
       "      <th>rate</th>\n",
       "      <th>votes</th>\n",
       "      <th>location</th>\n",
       "      <th>rest_type</th>\n",
       "      <th>dish_liked</th>\n",
       "      <th>cuisines</th>\n",
       "      <th>cost_for_two</th>\n",
       "      <th>reviews_list</th>\n",
       "      <th>menu_item</th>\n",
       "      <th>service_type</th>\n",
       "      <th>serve_to</th>\n",
       "    </tr>\n",
       "  </thead>\n",
       "  <tbody>\n",
       "    <tr>\n",
       "      <th>0</th>\n",
       "      <td>Jalsa</td>\n",
       "      <td>Yes</td>\n",
       "      <td>Yes</td>\n",
       "      <td>4.1</td>\n",
       "      <td>775</td>\n",
       "      <td>Banashankari</td>\n",
       "      <td>Casual Dining</td>\n",
       "      <td>Pasta, Lunch Buffet, Masala Papad, Paneer Laja...</td>\n",
       "      <td>North Indian, Mughlai, Chinese</td>\n",
       "      <td>800</td>\n",
       "      <td>[('Rated 4.0', 'RATED\\n  A beautiful place to ...</td>\n",
       "      <td>[]</td>\n",
       "      <td>Buffet</td>\n",
       "      <td>Banashankari</td>\n",
       "    </tr>\n",
       "    <tr>\n",
       "      <th>1</th>\n",
       "      <td>Spice Elephant</td>\n",
       "      <td>Yes</td>\n",
       "      <td>No</td>\n",
       "      <td>4.1</td>\n",
       "      <td>787</td>\n",
       "      <td>Banashankari</td>\n",
       "      <td>Casual Dining</td>\n",
       "      <td>Momos, Lunch Buffet, Chocolate Nirvana, Thai G...</td>\n",
       "      <td>Chinese, North Indian, Thai</td>\n",
       "      <td>800</td>\n",
       "      <td>[('Rated 4.0', 'RATED\\n  Had been here for din...</td>\n",
       "      <td>[]</td>\n",
       "      <td>Buffet</td>\n",
       "      <td>Banashankari</td>\n",
       "    </tr>\n",
       "    <tr>\n",
       "      <th>2</th>\n",
       "      <td>San Churro Cafe</td>\n",
       "      <td>Yes</td>\n",
       "      <td>No</td>\n",
       "      <td>3.8</td>\n",
       "      <td>918</td>\n",
       "      <td>Banashankari</td>\n",
       "      <td>Cafe, Casual Dining</td>\n",
       "      <td>Churros, Cannelloni, Minestrone Soup, Hot Choc...</td>\n",
       "      <td>Cafe, Mexican, Italian</td>\n",
       "      <td>800</td>\n",
       "      <td>[('Rated 3.0', \"RATED\\n  Ambience is not that ...</td>\n",
       "      <td>[]</td>\n",
       "      <td>Buffet</td>\n",
       "      <td>Banashankari</td>\n",
       "    </tr>\n",
       "    <tr>\n",
       "      <th>3</th>\n",
       "      <td>Addhuri Udupi Bhojana</td>\n",
       "      <td>No</td>\n",
       "      <td>No</td>\n",
       "      <td>3.7</td>\n",
       "      <td>88</td>\n",
       "      <td>Banashankari</td>\n",
       "      <td>Quick Bites</td>\n",
       "      <td>Masala Dosa</td>\n",
       "      <td>South Indian, North Indian</td>\n",
       "      <td>300</td>\n",
       "      <td>[('Rated 4.0', \"RATED\\n  Great food and proper...</td>\n",
       "      <td>[]</td>\n",
       "      <td>Buffet</td>\n",
       "      <td>Banashankari</td>\n",
       "    </tr>\n",
       "    <tr>\n",
       "      <th>4</th>\n",
       "      <td>Grand Village</td>\n",
       "      <td>No</td>\n",
       "      <td>No</td>\n",
       "      <td>3.8</td>\n",
       "      <td>166</td>\n",
       "      <td>Basavanagudi</td>\n",
       "      <td>Casual Dining</td>\n",
       "      <td>Panipuri, Gol Gappe</td>\n",
       "      <td>North Indian, Rajasthani</td>\n",
       "      <td>600</td>\n",
       "      <td>[('Rated 4.0', 'RATED\\n  Very good restaurant ...</td>\n",
       "      <td>[]</td>\n",
       "      <td>Buffet</td>\n",
       "      <td>Banashankari</td>\n",
       "    </tr>\n",
       "  </tbody>\n",
       "</table>\n",
       "</div>"
      ],
      "text/plain": [
       "                    name online_order book_table  rate  votes      location  \\\n",
       "0                  Jalsa          Yes        Yes   4.1    775  Banashankari   \n",
       "1         Spice Elephant          Yes         No   4.1    787  Banashankari   \n",
       "2        San Churro Cafe          Yes         No   3.8    918  Banashankari   \n",
       "3  Addhuri Udupi Bhojana           No         No   3.7     88  Banashankari   \n",
       "4          Grand Village           No         No   3.8    166  Basavanagudi   \n",
       "\n",
       "             rest_type                                         dish_liked  \\\n",
       "0        Casual Dining  Pasta, Lunch Buffet, Masala Papad, Paneer Laja...   \n",
       "1        Casual Dining  Momos, Lunch Buffet, Chocolate Nirvana, Thai G...   \n",
       "2  Cafe, Casual Dining  Churros, Cannelloni, Minestrone Soup, Hot Choc...   \n",
       "3          Quick Bites                                        Masala Dosa   \n",
       "4        Casual Dining                                Panipuri, Gol Gappe   \n",
       "\n",
       "                         cuisines cost_for_two  \\\n",
       "0  North Indian, Mughlai, Chinese          800   \n",
       "1     Chinese, North Indian, Thai          800   \n",
       "2          Cafe, Mexican, Italian          800   \n",
       "3      South Indian, North Indian          300   \n",
       "4        North Indian, Rajasthani          600   \n",
       "\n",
       "                                        reviews_list menu_item service_type  \\\n",
       "0  [('Rated 4.0', 'RATED\\n  A beautiful place to ...        []       Buffet   \n",
       "1  [('Rated 4.0', 'RATED\\n  Had been here for din...        []       Buffet   \n",
       "2  [('Rated 3.0', \"RATED\\n  Ambience is not that ...        []       Buffet   \n",
       "3  [('Rated 4.0', \"RATED\\n  Great food and proper...        []       Buffet   \n",
       "4  [('Rated 4.0', 'RATED\\n  Very good restaurant ...        []       Buffet   \n",
       "\n",
       "       serve_to  \n",
       "0  Banashankari  \n",
       "1  Banashankari  \n",
       "2  Banashankari  \n",
       "3  Banashankari  \n",
       "4  Banashankari  "
      ]
     },
     "execution_count": 25,
     "metadata": {},
     "output_type": "execute_result"
    }
   ],
   "source": [
    "df.rate = df.rate.apply(lambda x : x.replace(\"/5\", \" \")).astype(float)\n",
    "df.head()"
   ]
  },
  {
   "cell_type": "markdown",
   "id": "5f8db3bf",
   "metadata": {},
   "source": [
    "* cost_for_two has object data value.So need to convert it into integer."
   ]
  },
  {
   "cell_type": "code",
   "execution_count": 28,
   "id": "149b3ee2",
   "metadata": {},
   "outputs": [],
   "source": [
    "df.cost_for_two = df.cost_for_two.astype(str)\n",
    "df.cost_for_two = df.cost_for_two.apply(lambda x : x.replace(',','')).astype(float)"
   ]
  },
  {
   "cell_type": "code",
   "execution_count": 29,
   "id": "60ad1285",
   "metadata": {},
   "outputs": [
    {
     "data": {
      "text/plain": [
       "dtype('float64')"
      ]
     },
     "execution_count": 29,
     "metadata": {},
     "output_type": "execute_result"
    }
   ],
   "source": [
    "df.cost_for_two.dtype"
   ]
  },
  {
   "cell_type": "markdown",
   "id": "d98c5a8c",
   "metadata": {},
   "source": [
    "# Visualization"
   ]
  },
  {
   "cell_type": "code",
   "execution_count": 31,
   "id": "97024f73",
   "metadata": {},
   "outputs": [],
   "source": [
    "import matplotlib"
   ]
  },
  {
   "cell_type": "code",
   "execution_count": 33,
   "id": "40bcb30d",
   "metadata": {},
   "outputs": [
    {
     "name": "stderr",
     "output_type": "stream",
     "text": [
      "/Users/a/opt/anaconda3/lib/python3.8/site-packages/seaborn/_decorators.py:36: FutureWarning:\n",
      "\n",
      "Pass the following variable as a keyword arg: x. From version 0.12, the only valid positional argument will be `data`, and passing other arguments without an explicit keyword will result in an error or misinterpretation.\n",
      "\n"
     ]
    },
    {
     "data": {
      "text/plain": [
       "<AxesSubplot:xlabel='rate', ylabel='count'>"
      ]
     },
     "execution_count": 33,
     "metadata": {},
     "output_type": "execute_result"
    },
    {
     "data": {
      "image/png": "[encoded data removed]",
      "text/plain": [
       "<Figure size 864x432 with 1 Axes>"
      ]
     },
     "metadata": {
      "needs_background": "light"
     },
     "output_type": "display_data"
    }
   ],
   "source": [
    "matplotlib.rcParams['figure.figsize'] = [12,6]\n",
    "sns.countplot(df.rate)"
   ]
  },
  {
   "cell_type": "code",
   "execution_count": 34,
   "id": "1c4078d1",
   "metadata": {},
   "outputs": [
    {
     "name": "stderr",
     "output_type": "stream",
     "text": [
      "/Users/a/opt/anaconda3/lib/python3.8/site-packages/seaborn/_decorators.py:36: FutureWarning:\n",
      "\n",
      "Pass the following variable as a keyword arg: x. From version 0.12, the only valid positional argument will be `data`, and passing other arguments without an explicit keyword will result in an error or misinterpretation.\n",
      "\n"
     ]
    },
    {
     "data": {
      "image/png": "[encoded data removed]",
      "text/plain": [
       "<Figure size 1008x504 with 1 Axes>"
      ]
     },
     "metadata": {
      "needs_background": "light"
     },
     "output_type": "display_data"
    }
   ],
   "source": [
    "plt.rcParams['figure.figsize'] = 14,7\n",
    "sns.countplot(df['rate'], palette='Set1')\n",
    "plt.title(\"Count plot of the rate variable\")\n",
    "plt.xticks(rotation = 90)\n",
    "plt.show()"
   ]
  },
  {
   "cell_type": "markdown",
   "id": "d4b56540",
   "metadata": {},
   "source": [
    "From the above rate distribution it nearly follows normal distribution with a mean equal to 3.7. The graph show that the majority of the restaurant rating lies between the 3.4 - 4.2. Very few restaurants have rating 4.8.\n"
   ]
  },
  {
   "cell_type": "markdown",
   "id": "c87d5139",
   "metadata": {},
   "source": [
    "### Plotting a joint plot for rate vs votes:\n",
    "\n",
    "* Joint plot allows us to compare two different variables and see if there is any relationship between these two variables. By using joint plot we can do both univariate and bivariate analysis by plotting the scatter plot (bivariate) and distribution plot (univariate) of two different variables in a single plotting grid\n",
    "\n",
    "* Univariate analysis is the analysis of one (“uni”) variable. Bivariate analysis is the analysis of exactly two variables. Multivariate analysis is the analysis of more than two variables"
   ]
  },
  {
   "cell_type": "code",
   "execution_count": 35,
   "id": "769f0eb8",
   "metadata": {},
   "outputs": [
    {
     "data": {
      "text/plain": [
       "<seaborn.axisgrid.JointGrid at 0x7fa3defa1040>"
      ]
     },
     "execution_count": 35,
     "metadata": {},
     "output_type": "execute_result"
    },
    {
     "data": {
      "text/plain": [
       "<Figure size 1008x720 with 0 Axes>"
      ]
     },
     "metadata": {},
     "output_type": "display_data"
    },
    {
     "data": {
      "image/png": "[encoded data removed]",
      "text/plain": [
       "<Figure size 576x576 with 3 Axes>"
      ]
     },
     "metadata": {},
     "output_type": "display_data"
    }
   ],
   "source": [
    "plt.figure(figsize=(14,10))\n",
    "sns.set_style(\"darkgrid\")\n",
    "sns.jointplot(x = 'rate', y = 'votes', data=df, color = 'darkgreen',height = 8, ratio = 4)"
   ]
  },
  {
   "cell_type": "markdown",
   "id": "55162c0d",
   "metadata": {},
   "source": [
    "* From the scatter plot we can see that the restaurants with higher number of rating has more votes. The distribution plot of votes on the right side indicates that the majority of votes pooled lie in bucket of 1000-2500."
   ]
  },
  {
   "cell_type": "markdown",
   "id": "cca8ee4f",
   "metadata": {},
   "source": [
    "### Bar Plot\n",
    "\n",
    "__Barplot__ is one of the mostt commonly used graphic to represent the data. Barplot represents the data in rectangular bars with the length of the bar proportional to the value of variable. We will analyze the variable location and see in which area most of the restaurants are located in Bangalore."
   ]
  },
  {
   "cell_type": "code",
   "execution_count": 36,
   "id": "d454d4f3",
   "metadata": {},
   "outputs": [
    {
     "data": {
      "image/png": "[encoded data removed]",
      "text/plain": [
       "<Figure size 1008x504 with 1 Axes>"
      ]
     },
     "metadata": {},
     "output_type": "display_data"
    }
   ],
   "source": [
    "df.location.value_counts().nlargest(10).plot(kind='barh')\n",
    "plt.title(\"Number of restaurants by location\")\n",
    "plt.xlabel(\"Restaurant counts\")\n",
    "plt.show()"
   ]
  },
  {
   "cell_type": "markdown",
   "id": "6ab19eb2",
   "metadata": {},
   "source": [
    "* From the above visualization we can say that most number of the restaurants are located at __BTM__ which makes it most popular residential and commercial and residential places in Banglore."
   ]
  },
  {
   "cell_type": "code",
   "execution_count": 43,
   "id": "f2ad911c",
   "metadata": {},
   "outputs": [
    {
     "data": {
      "text/plain": [
       "<AxesSubplot:xlabel='online_order', ylabel='count'>"
      ]
     },
     "execution_count": 43,
     "metadata": {},
     "output_type": "execute_result"
    },
    {
     "data": {
      "image/png": "[encoded data removed]",
      "text/plain": [
       "<Figure size 1008x504 with 1 Axes>"
      ]
     },
     "metadata": {},
     "output_type": "display_data"
    }
   ],
   "source": [
    "sns.countplot(x = 'online_order', data = df , palette = 'YlGn')"
   ]
  },
  {
   "cell_type": "markdown",
   "id": "6d1f6c88",
   "metadata": {},
   "source": [
    "* From the above graph it is shown that online_order is more."
   ]
  },
  {
   "cell_type": "code",
   "execution_count": 45,
   "id": "c72d464f",
   "metadata": {},
   "outputs": [
    {
     "data": {
      "text/plain": [
       "<AxesSubplot:xlabel='book_table', ylabel='count'>"
      ]
     },
     "execution_count": 45,
     "metadata": {},
     "output_type": "execute_result"
    },
    {
     "data": {
      "image/png": "[encoded data removed]",
      "text/plain": [
       "<Figure size 1008x504 with 1 Axes>"
      ]
     },
     "metadata": {},
     "output_type": "display_data"
    }
   ],
   "source": [
    "sns.countplot(x = 'book_table', data = df, palette = 'CMRmap')"
   ]
  },
  {
   "cell_type": "markdown",
   "id": "c73f0a9a",
   "metadata": {},
   "source": [
    "* The number of book_table is low.\n",
    "* So most of them are preferred online order rather than book_table."
   ]
  },
  {
   "cell_type": "markdown",
   "id": "9c9e17b2",
   "metadata": {},
   "source": [
    "## Pie Chart"
   ]
  },
  {
   "cell_type": "code",
   "execution_count": 51,
   "id": "e7c2b3eb",
   "metadata": {},
   "outputs": [
    {
     "data": {
      "text/plain": [
       "Index(['Yes', 'No'], dtype='object')"
      ]
     },
     "execution_count": 51,
     "metadata": {},
     "output_type": "execute_result"
    }
   ],
   "source": [
    "online_order_label = df.online_order.value_counts().index\n",
    "online_order_label"
   ]
  },
  {
   "cell_type": "code",
   "execution_count": 52,
   "id": "8c513484",
   "metadata": {},
   "outputs": [
    {
     "data": {
      "text/plain": [
       "array([30444, 21273])"
      ]
     },
     "execution_count": 52,
     "metadata": {},
     "output_type": "execute_result"
    }
   ],
   "source": [
    "online_order_value = df.online_order.value_counts().values\n",
    "online_order_value"
   ]
  },
  {
   "cell_type": "code",
   "execution_count": 56,
   "id": "2ef7feb8",
   "metadata": {},
   "outputs": [
    {
     "data": {
      "text/plain": [
       "([<matplotlib.patches.Wedge at 0x7fa3e25d0490>,\n",
       "  <matplotlib.patches.Wedge at 0x7fa3e25d0b80>],\n",
       " [Text(-0.30245810454915784, 1.0576006311422714, 'Yes'),\n",
       "  Text(0.30245810454915795, -1.0576006311422714, 'No')],\n",
       " [Text(-0.16497714793590426, 0.5768730715321481, '58.87%'),\n",
       "  Text(0.16497714793590432, -0.576873071532148, '41.13%')])"
      ]
     },
     "execution_count": 56,
     "metadata": {},
     "output_type": "execute_result"
    },
    {
     "data": {
      "image/png": "[encoded data removed]",
      "text/plain": [
       "<Figure size 1008x504 with 1 Axes>"
      ]
     },
     "metadata": {},
     "output_type": "display_data"
    }
   ],
   "source": [
    "plt.pie(online_order_value, labels = online_order_label ,autopct = '%1.2f%%',radius = 1,colors = ['lightskyblue','gold'])"
   ]
  },
  {
   "cell_type": "markdown",
   "id": "d1960d05",
   "metadata": {},
   "source": [
    "### Restaurant Listed in\n",
    "Let's see to in which area most of the restaurants are listed in or deliver to"
   ]
  },
  {
   "cell_type": "code",
   "execution_count": 57,
   "id": "adc4606e",
   "metadata": {},
   "outputs": [
    {
     "data": {
      "text/plain": [
       "BTM                      3279\n",
       "Koramangala 7th Block    2938\n",
       "Koramangala 5th Block    2836\n",
       "Koramangala 4th Block    2779\n",
       "Koramangala 6th Block    2623\n",
       "Jayanagar                2371\n",
       "JP Nagar                 2096\n",
       "Indiranagar              1860\n",
       "Church Street            1827\n",
       "MG Road                  1811\n",
       "Brigade Road             1769\n",
       "Lavelle Road             1744\n",
       "HSR                      1741\n",
       "Marathahalli             1659\n",
       "Whitefield               1620\n",
       "Residency Road           1620\n",
       "Bannerghatta Road        1617\n",
       "Brookefield              1518\n",
       "Old Airport Road         1425\n",
       "Kammanahalli             1329\n",
       "Kalyan Nagar             1309\n",
       "Basavanagudi             1266\n",
       "Sarjapur Road            1261\n",
       "Electronic City          1229\n",
       "Bellandur                1227\n",
       "Frazer Town              1185\n",
       "Malleshwaram             1096\n",
       "Rajajinagar              1079\n",
       "Banashankari              863\n",
       "New BEL Road              740\n",
       "Name: serve_to, dtype: int64"
      ]
     },
     "execution_count": 57,
     "metadata": {},
     "output_type": "execute_result"
    }
   ],
   "source": [
    "df.serve_to.value_counts()"
   ]
  },
  {
   "cell_type": "code",
   "execution_count": 58,
   "id": "b74f6bb9",
   "metadata": {},
   "outputs": [
    {
     "data": {
      "image/png": "[encoded data removed]",
      "text/plain": [
       "<Figure size 1008x504 with 1 Axes>"
      ]
     },
     "metadata": {},
     "output_type": "display_data"
    }
   ],
   "source": [
    "df.serve_to.value_counts().nlargest(10).plot(kind = 'barh', color = 'r')\n",
    "plt.title(\"Number of restaurants listed in\")\n",
    "plt.xlabel(\"Count\")\n",
    "plt.legend()\n",
    "plt.show()"
   ]
  },
  {
   "cell_type": "markdown",
   "id": "5d30e1ba",
   "metadata": {},
   "source": [
    "As expected most of the restaurants listed_in deliver to BTM location because this area is home to over more than 3000 restaurants. Even though Koramangaka 7th Block dont have many restaurants still it stands second in terms of the m=number of restaurants that deliver to this location."
   ]
  },
  {
   "cell_type": "markdown",
   "id": "4f7693c3",
   "metadata": {},
   "source": [
    "### Checking whether the online order facility impacts the rating of the restaurants\n"
   ]
  },
  {
   "cell_type": "code",
   "execution_count": 60,
   "id": "d9ab3eeb",
   "metadata": {},
   "outputs": [
    {
     "data": {
      "image/png": "[encoded data removed]",
      "text/plain": [
       "<Figure size 1008x504 with 1 Axes>"
      ]
     },
     "metadata": {},
     "output_type": "display_data"
    }
   ],
   "source": [
    "sns.countplot(x = df['rate'], hue = df['online_order'], palette= 'PRGn')\n",
    "plt.title(\"Distribution of restaurant rating over online order facility\")\n",
    "plt.show()"
   ]
  },
  {
   "cell_type": "markdown",
   "id": "49c6bba0",
   "metadata": {},
   "source": [
    "* We can clearly observered that If the restaurant which dont have online order facility are more like to lose the rating as compared to the restuarants which have online order facility"
   ]
  },
  {
   "cell_type": "markdown",
   "id": "26e8b9fe",
   "metadata": {},
   "source": [
    "### Rest_type listed"
   ]
  },
  {
   "cell_type": "code",
   "execution_count": 63,
   "id": "5622183d",
   "metadata": {},
   "outputs": [
    {
     "data": {
      "text/plain": [
       "array(['Casual Dining', 'Casual Dining', 'Cafe, Casual Dining', ...,\n",
       "       'Bar', 'Bar', 'Bar, Casual Dining'], dtype=object)"
      ]
     },
     "execution_count": 63,
     "metadata": {},
     "output_type": "execute_result"
    }
   ],
   "source": [
    "df.rest_type.values"
   ]
  },
  {
   "cell_type": "code",
   "execution_count": 61,
   "id": "aa1e9ab9",
   "metadata": {},
   "outputs": [
    {
     "data": {
      "text/plain": [
       "Quick Bites                   19132\n",
       "Casual Dining                 10330\n",
       "Cafe                           3732\n",
       "Delivery                       2604\n",
       "Dessert Parlor                 2263\n",
       "                              ...  \n",
       "Food Court, Beverage Shop         2\n",
       "Dessert Parlor, Food Court        2\n",
       "Cafe, Food Court                  2\n",
       "Quick Bites, Kiosk                1\n",
       "Sweet Shop, Dessert Parlor        1\n",
       "Name: rest_type, Length: 93, dtype: int64"
      ]
     },
     "execution_count": 61,
     "metadata": {},
     "output_type": "execute_result"
    }
   ],
   "source": [
    "df.rest_type.value_counts()"
   ]
  },
  {
   "cell_type": "code",
   "execution_count": 66,
   "id": "2abb1612",
   "metadata": {},
   "outputs": [
    {
     "data": {
      "image/png": "[encoded data removed]",
      "text/plain": [
       "<Figure size 1008x504 with 1 Axes>"
      ]
     },
     "metadata": {},
     "output_type": "display_data"
    }
   ],
   "source": [
    "df.rest_type.value_counts().nlargest(20).plot(kind = 'barh', color = 'g')\n",
    "plt.title(\"Restaurant type\")\n",
    "plt.xlabel(\"Count\")\n",
    "plt.legend()\n",
    "plt.show()"
   ]
  },
  {
   "cell_type": "markdown",
   "id": "ca60a09b",
   "metadata": {},
   "source": [
    "* From the above visuals shows the top 20 restaurant type. We can see that the restaurant type Quick Bites is more popular among people as compared to the rest of the restaurant types."
   ]
  },
  {
   "cell_type": "code",
   "execution_count": 67,
   "id": "729241b9",
   "metadata": {},
   "outputs": [
    {
     "data": {
      "text/html": [
       "<div>\n",
       "<style scoped>\n",
       "    .dataframe tbody tr th:only-of-type {\n",
       "        vertical-align: middle;\n",
       "    }\n",
       "\n",
       "    .dataframe tbody tr th {\n",
       "        vertical-align: top;\n",
       "    }\n",
       "\n",
       "    .dataframe thead th {\n",
       "        text-align: right;\n",
       "    }\n",
       "</style>\n",
       "<table border=\"1\" class=\"dataframe\">\n",
       "  <thead>\n",
       "    <tr style=\"text-align: right;\">\n",
       "      <th></th>\n",
       "      <th>name</th>\n",
       "      <th>online_order</th>\n",
       "      <th>book_table</th>\n",
       "      <th>rate</th>\n",
       "      <th>votes</th>\n",
       "      <th>location</th>\n",
       "      <th>rest_type</th>\n",
       "      <th>dish_liked</th>\n",
       "      <th>cuisines</th>\n",
       "      <th>cost_for_two</th>\n",
       "      <th>reviews_list</th>\n",
       "      <th>menu_item</th>\n",
       "      <th>service_type</th>\n",
       "      <th>serve_to</th>\n",
       "    </tr>\n",
       "  </thead>\n",
       "  <tbody>\n",
       "    <tr>\n",
       "      <th>0</th>\n",
       "      <td>Jalsa</td>\n",
       "      <td>Yes</td>\n",
       "      <td>Yes</td>\n",
       "      <td>4.1</td>\n",
       "      <td>775</td>\n",
       "      <td>Banashankari</td>\n",
       "      <td>Casual Dining</td>\n",
       "      <td>Pasta, Lunch Buffet, Masala Papad, Paneer Laja...</td>\n",
       "      <td>North Indian, Mughlai, Chinese</td>\n",
       "      <td>800.0</td>\n",
       "      <td>[('Rated 4.0', 'RATED\\n  A beautiful place to ...</td>\n",
       "      <td>[]</td>\n",
       "      <td>Buffet</td>\n",
       "      <td>Banashankari</td>\n",
       "    </tr>\n",
       "    <tr>\n",
       "      <th>1</th>\n",
       "      <td>Spice Elephant</td>\n",
       "      <td>Yes</td>\n",
       "      <td>No</td>\n",
       "      <td>4.1</td>\n",
       "      <td>787</td>\n",
       "      <td>Banashankari</td>\n",
       "      <td>Casual Dining</td>\n",
       "      <td>Momos, Lunch Buffet, Chocolate Nirvana, Thai G...</td>\n",
       "      <td>Chinese, North Indian, Thai</td>\n",
       "      <td>800.0</td>\n",
       "      <td>[('Rated 4.0', 'RATED\\n  Had been here for din...</td>\n",
       "      <td>[]</td>\n",
       "      <td>Buffet</td>\n",
       "      <td>Banashankari</td>\n",
       "    </tr>\n",
       "    <tr>\n",
       "      <th>2</th>\n",
       "      <td>San Churro Cafe</td>\n",
       "      <td>Yes</td>\n",
       "      <td>No</td>\n",
       "      <td>3.8</td>\n",
       "      <td>918</td>\n",
       "      <td>Banashankari</td>\n",
       "      <td>Cafe, Casual Dining</td>\n",
       "      <td>Churros, Cannelloni, Minestrone Soup, Hot Choc...</td>\n",
       "      <td>Cafe, Mexican, Italian</td>\n",
       "      <td>800.0</td>\n",
       "      <td>[('Rated 3.0', \"RATED\\n  Ambience is not that ...</td>\n",
       "      <td>[]</td>\n",
       "      <td>Buffet</td>\n",
       "      <td>Banashankari</td>\n",
       "    </tr>\n",
       "    <tr>\n",
       "      <th>3</th>\n",
       "      <td>Addhuri Udupi Bhojana</td>\n",
       "      <td>No</td>\n",
       "      <td>No</td>\n",
       "      <td>3.7</td>\n",
       "      <td>88</td>\n",
       "      <td>Banashankari</td>\n",
       "      <td>Quick Bites</td>\n",
       "      <td>Masala Dosa</td>\n",
       "      <td>South Indian, North Indian</td>\n",
       "      <td>300.0</td>\n",
       "      <td>[('Rated 4.0', \"RATED\\n  Great food and proper...</td>\n",
       "      <td>[]</td>\n",
       "      <td>Buffet</td>\n",
       "      <td>Banashankari</td>\n",
       "    </tr>\n",
       "    <tr>\n",
       "      <th>4</th>\n",
       "      <td>Grand Village</td>\n",
       "      <td>No</td>\n",
       "      <td>No</td>\n",
       "      <td>3.8</td>\n",
       "      <td>166</td>\n",
       "      <td>Basavanagudi</td>\n",
       "      <td>Casual Dining</td>\n",
       "      <td>Panipuri, Gol Gappe</td>\n",
       "      <td>North Indian, Rajasthani</td>\n",
       "      <td>600.0</td>\n",
       "      <td>[('Rated 4.0', 'RATED\\n  Very good restaurant ...</td>\n",
       "      <td>[]</td>\n",
       "      <td>Buffet</td>\n",
       "      <td>Banashankari</td>\n",
       "    </tr>\n",
       "  </tbody>\n",
       "</table>\n",
       "</div>"
      ],
      "text/plain": [
       "                    name online_order book_table  rate  votes      location  \\\n",
       "0                  Jalsa          Yes        Yes   4.1    775  Banashankari   \n",
       "1         Spice Elephant          Yes         No   4.1    787  Banashankari   \n",
       "2        San Churro Cafe          Yes         No   3.8    918  Banashankari   \n",
       "3  Addhuri Udupi Bhojana           No         No   3.7     88  Banashankari   \n",
       "4          Grand Village           No         No   3.8    166  Basavanagudi   \n",
       "\n",
       "             rest_type                                         dish_liked  \\\n",
       "0        Casual Dining  Pasta, Lunch Buffet, Masala Papad, Paneer Laja...   \n",
       "1        Casual Dining  Momos, Lunch Buffet, Chocolate Nirvana, Thai G...   \n",
       "2  Cafe, Casual Dining  Churros, Cannelloni, Minestrone Soup, Hot Choc...   \n",
       "3          Quick Bites                                        Masala Dosa   \n",
       "4        Casual Dining                                Panipuri, Gol Gappe   \n",
       "\n",
       "                         cuisines  cost_for_two  \\\n",
       "0  North Indian, Mughlai, Chinese         800.0   \n",
       "1     Chinese, North Indian, Thai         800.0   \n",
       "2          Cafe, Mexican, Italian         800.0   \n",
       "3      South Indian, North Indian         300.0   \n",
       "4        North Indian, Rajasthani         600.0   \n",
       "\n",
       "                                        reviews_list menu_item service_type  \\\n",
       "0  [('Rated 4.0', 'RATED\\n  A beautiful place to ...        []       Buffet   \n",
       "1  [('Rated 4.0', 'RATED\\n  Had been here for din...        []       Buffet   \n",
       "2  [('Rated 3.0', \"RATED\\n  Ambience is not that ...        []       Buffet   \n",
       "3  [('Rated 4.0', \"RATED\\n  Great food and proper...        []       Buffet   \n",
       "4  [('Rated 4.0', 'RATED\\n  Very good restaurant ...        []       Buffet   \n",
       "\n",
       "       serve_to  \n",
       "0  Banashankari  \n",
       "1  Banashankari  \n",
       "2  Banashankari  \n",
       "3  Banashankari  \n",
       "4  Banashankari  "
      ]
     },
     "execution_count": 67,
     "metadata": {},
     "output_type": "execute_result"
    }
   ],
   "source": [
    "df.head()"
   ]
  },
  {
   "cell_type": "markdown",
   "id": "29f124dd",
   "metadata": {},
   "source": [
    "## Top Restaurants in Bangalore"
   ]
  },
  {
   "cell_type": "code",
   "execution_count": 68,
   "id": "1842411e",
   "metadata": {},
   "outputs": [
    {
     "data": {
      "text/plain": [
       "Cafe Coffee Day            96\n",
       "Onesta                     85\n",
       "Just Bake                  73\n",
       "Empire Restaurant          71\n",
       "Five Star Chicken          70\n",
       "                           ..\n",
       "Quality Dum Biriyani        1\n",
       "Lassi Ghar                  1\n",
       "V V Hotel                   1\n",
       "Aadhya's Fresh and Rich     1\n",
       "The Druid Garden            1\n",
       "Name: name, Length: 8792, dtype: int64"
      ]
     },
     "execution_count": 68,
     "metadata": {},
     "output_type": "execute_result"
    }
   ],
   "source": [
    "df.name.value_counts()"
   ]
  },
  {
   "cell_type": "code",
   "execution_count": 70,
   "id": "d5ce2cbc",
   "metadata": {},
   "outputs": [
    {
     "data": {
      "image/png": "[encoded data removed]",
      "text/plain": [
       "<Figure size 1008x504 with 1 Axes>"
      ]
     },
     "metadata": {},
     "output_type": "display_data"
    }
   ],
   "source": [
    "df.name.value_counts().nlargest(20).plot(kind = 'barh', color = 'r')\n",
    "plt.title(\"Restaurant name\")\n",
    "plt.xlabel(\"Count\")\n",
    "plt.legend()\n",
    "plt.show()"
   ]
  },
  {
   "cell_type": "markdown",
   "id": "c60e193f",
   "metadata": {},
   "source": [
    "* Most of them preferred Cafe coffee Day than other restuarents."
   ]
  },
  {
   "cell_type": "markdown",
   "id": "ee1c9b3c",
   "metadata": {},
   "source": [
    "### Dishes "
   ]
  },
  {
   "cell_type": "code",
   "execution_count": 71,
   "id": "a76099ed",
   "metadata": {},
   "outputs": [
    {
     "data": {
      "text/plain": [
       "Biryani                                                                                                                       182\n",
       "Chicken Biryani                                                                                                                73\n",
       "Friendly Staff                                                                                                                 69\n",
       "Waffles                                                                                                                        68\n",
       "Paratha                                                                                                                        57\n",
       "                                                                                                                             ... \n",
       "Pizza, Pasta, Mocktails, Tiramisu, Salads, Cocktails, Wine                                                                      1\n",
       "Pizza, Pasta, Sangria, Bruschettas, Salads, Nachos, Tiramisu                                                                    1\n",
       "Tiramisu, Pasta, Pizza, Lasagne, Sea Food, Ravioli, Bruschettas                                                                 1\n",
       "Burgers, Fries, Bbq Chicken Pizza, Pasta, Potato Wedges, Peri Peri Chicken, Steak                                               1\n",
       "Chicken Boneless Biryani, Paneer Biryani, Andhra Style Biryani, Tandoori Chicken, Hyderabadi Biryani, Prawn Biryani, Raita      1\n",
       "Name: dish_liked, Length: 5271, dtype: int64"
      ]
     },
     "execution_count": 71,
     "metadata": {},
     "output_type": "execute_result"
    }
   ],
   "source": [
    "df.dish_liked.value_counts()"
   ]
  },
  {
   "cell_type": "code",
   "execution_count": 75,
   "id": "c0584cca",
   "metadata": {},
   "outputs": [
    {
     "data": {
      "image/png": "[encoded data removed]",
      "text/plain": [
       "<Figure size 1008x504 with 1 Axes>"
      ]
     },
     "metadata": {},
     "output_type": "display_data"
    }
   ],
   "source": [
    "df.dish_liked.value_counts().nlargest(20).plot(kind = 'barh',color = 'darkblue')\n",
    "plt.show()"
   ]
  },
  {
   "cell_type": "markdown",
   "id": "cf107d87",
   "metadata": {},
   "source": [
    "* Most of them liked Biriyani dish compared to the other dishes."
   ]
  },
  {
   "cell_type": "code",
   "execution_count": 76,
   "id": "98d0c8b0",
   "metadata": {},
   "outputs": [
    {
     "data": {
      "image/png": "[encoded data removed]",
      "text/plain": [
       "<Figure size 1440x720 with 1 Axes>"
      ]
     },
     "metadata": {},
     "output_type": "display_data"
    }
   ],
   "source": [
    "# Now lets check how to rating affects if the restaurant has table booking or not.\n",
    "plt.figure(figsize=(20,10))\n",
    "sns.countplot(x = df['online_order'], hue = df['rate'], palette= 'Set1')\n",
    "plt.title(\"Distribution of restaurant rating over table booking facility\")\n",
    "plt.show()\n"
   ]
  },
  {
   "cell_type": "markdown",
   "id": "49abb628",
   "metadata": {},
   "source": [
    "* We can clearly see that the ratings affects drastically if the restaurant has table booking or not. The restaurants which are having table booking facility tends to have higher ratings as compared to the restaurants which dont have table booking facility available with them."
   ]
  },
  {
   "cell_type": "markdown",
   "id": "09373d66",
   "metadata": {},
   "source": [
    "## Comparing Biggest Restaurant Chain and Best Restaurant Chain"
   ]
  },
  {
   "cell_type": "code",
   "execution_count": 77,
   "id": "93b8354c",
   "metadata": {},
   "outputs": [
    {
     "data": {
      "image/png": "[encoded data removed]",
      "text/plain": [
       "<Figure size 1008x504 with 2 Axes>"
      ]
     },
     "metadata": {},
     "output_type": "display_data"
    }
   ],
   "source": [
    "plt.rcParams['figure.figsize'] = 14,7\n",
    "plt.subplot(1,2,1)\n",
    "\n",
    "df.name.value_counts().head().plot(kind = 'barh', color = sns.color_palette(\"hls\", 5))\n",
    "plt.xlabel(\"Number Of Restaurants\")\n",
    "plt.title(\"Biggest Restaurant Chain (Top 5)\")\n",
    "\n",
    "plt.subplot(1,2,2)\n",
    "\n",
    "df[df['rate'] >= 4.5]['name'].value_counts().nlargest(5).plot(kind = 'barh', color = sns.color_palette(\"Paired\"))\n",
    "plt.xlabel(\"Number Of Restaurants\")\n",
    "plt.title(\"Biggest Restaurant Chain (Top 5) - Rating more than 4.5\")\n",
    "plt.tight_layout()"
   ]
  },
  {
   "cell_type": "markdown",
   "id": "26deae68",
   "metadata": {},
   "source": [
    "* Cafe Coffee Day chain has over 90 cafes across the city that are listed in Zomato. On the other hand, Truffles - a burger chain has the best fast food restaurant (rating more than 4.5 out of 100), quality over quantity."
   ]
  },
  {
   "cell_type": "markdown",
   "id": "efa7c286",
   "metadata": {},
   "source": [
    "# Feature Engineering"
   ]
  },
  {
   "cell_type": "code",
   "execution_count": 78,
   "id": "4d14ab44",
   "metadata": {},
   "outputs": [
    {
     "data": {
      "text/plain": [
       "name                0\n",
       "online_order        0\n",
       "book_table          0\n",
       "rate            10052\n",
       "votes               0\n",
       "location           21\n",
       "rest_type         227\n",
       "dish_liked      28078\n",
       "cuisines           45\n",
       "cost_for_two      346\n",
       "reviews_list        0\n",
       "menu_item           0\n",
       "service_type        0\n",
       "serve_to            0\n",
       "dtype: int64"
      ]
     },
     "execution_count": 78,
     "metadata": {},
     "output_type": "execute_result"
    }
   ],
   "source": [
    "df.isnull().sum()"
   ]
  },
  {
   "cell_type": "code",
   "execution_count": 82,
   "id": "fc40f4ec",
   "metadata": {},
   "outputs": [],
   "source": [
    "# Replacing the NaN values in rate feature\n",
    "\n",
    "df['rate'] = df['rate'].fillna(df['rate'].mean())"
   ]
  },
  {
   "cell_type": "code",
   "execution_count": 83,
   "id": "138a493a",
   "metadata": {},
   "outputs": [
    {
     "name": "stderr",
     "output_type": "stream",
     "text": [
      "/Users/a/opt/anaconda3/lib/python3.8/site-packages/seaborn/distributions.py:2557: FutureWarning:\n",
      "\n",
      "`distplot` is a deprecated function and will be removed in a future version. Please adapt your code to use either `displot` (a figure-level function with similar flexibility) or `histplot` (an axes-level function for histograms).\n",
      "\n"
     ]
    },
    {
     "data": {
      "image/png": "[encoded data removed]",
      "text/plain": [
       "<Figure size 1008x504 with 1 Axes>"
      ]
     },
     "metadata": {},
     "output_type": "display_data"
    }
   ],
   "source": [
    "# Plotting a distplot\n",
    "sns.distplot(df['rate'], color = 'darkgreen')\n",
    "plt.title('Rating Distribution')\n",
    "plt.show()"
   ]
  },
  {
   "cell_type": "markdown",
   "id": "11315340",
   "metadata": {},
   "source": [
    "* It follows normal distributon"
   ]
  },
  {
   "cell_type": "code",
   "execution_count": 85,
   "id": "3aab6137",
   "metadata": {},
   "outputs": [
    {
     "data": {
      "text/plain": [
       "0"
      ]
     },
     "execution_count": 85,
     "metadata": {},
     "output_type": "execute_result"
    }
   ],
   "source": [
    "df.rate.isna().sum()"
   ]
  },
  {
   "cell_type": "code",
   "execution_count": 86,
   "id": "0c1d6a4c",
   "metadata": {},
   "outputs": [
    {
     "data": {
      "text/html": [
       "<div>\n",
       "<style scoped>\n",
       "    .dataframe tbody tr th:only-of-type {\n",
       "        vertical-align: middle;\n",
       "    }\n",
       "\n",
       "    .dataframe tbody tr th {\n",
       "        vertical-align: top;\n",
       "    }\n",
       "\n",
       "    .dataframe thead th {\n",
       "        text-align: right;\n",
       "    }\n",
       "</style>\n",
       "<table border=\"1\" class=\"dataframe\">\n",
       "  <thead>\n",
       "    <tr style=\"text-align: right;\">\n",
       "      <th></th>\n",
       "      <th>name</th>\n",
       "      <th>online_order</th>\n",
       "      <th>book_table</th>\n",
       "      <th>rate</th>\n",
       "      <th>votes</th>\n",
       "      <th>location</th>\n",
       "      <th>rest_type</th>\n",
       "      <th>dish_liked</th>\n",
       "      <th>cuisines</th>\n",
       "      <th>cost_for_two</th>\n",
       "      <th>reviews_list</th>\n",
       "      <th>menu_item</th>\n",
       "      <th>service_type</th>\n",
       "      <th>serve_to</th>\n",
       "    </tr>\n",
       "  </thead>\n",
       "  <tbody>\n",
       "    <tr>\n",
       "      <th>0</th>\n",
       "      <td>Jalsa</td>\n",
       "      <td>Yes</td>\n",
       "      <td>Yes</td>\n",
       "      <td>4.1</td>\n",
       "      <td>775</td>\n",
       "      <td>Banashankari</td>\n",
       "      <td>Casual Dining</td>\n",
       "      <td>Pasta, Lunch Buffet, Masala Papad, Paneer Laja...</td>\n",
       "      <td>North Indian, Mughlai, Chinese</td>\n",
       "      <td>800.0</td>\n",
       "      <td>[('Rated 4.0', 'RATED\\n  A beautiful place to ...</td>\n",
       "      <td>[]</td>\n",
       "      <td>Buffet</td>\n",
       "      <td>Banashankari</td>\n",
       "    </tr>\n",
       "    <tr>\n",
       "      <th>1</th>\n",
       "      <td>Spice Elephant</td>\n",
       "      <td>Yes</td>\n",
       "      <td>No</td>\n",
       "      <td>4.1</td>\n",
       "      <td>787</td>\n",
       "      <td>Banashankari</td>\n",
       "      <td>Casual Dining</td>\n",
       "      <td>Momos, Lunch Buffet, Chocolate Nirvana, Thai G...</td>\n",
       "      <td>Chinese, North Indian, Thai</td>\n",
       "      <td>800.0</td>\n",
       "      <td>[('Rated 4.0', 'RATED\\n  Had been here for din...</td>\n",
       "      <td>[]</td>\n",
       "      <td>Buffet</td>\n",
       "      <td>Banashankari</td>\n",
       "    </tr>\n",
       "    <tr>\n",
       "      <th>2</th>\n",
       "      <td>San Churro Cafe</td>\n",
       "      <td>Yes</td>\n",
       "      <td>No</td>\n",
       "      <td>3.8</td>\n",
       "      <td>918</td>\n",
       "      <td>Banashankari</td>\n",
       "      <td>Cafe, Casual Dining</td>\n",
       "      <td>Churros, Cannelloni, Minestrone Soup, Hot Choc...</td>\n",
       "      <td>Cafe, Mexican, Italian</td>\n",
       "      <td>800.0</td>\n",
       "      <td>[('Rated 3.0', \"RATED\\n  Ambience is not that ...</td>\n",
       "      <td>[]</td>\n",
       "      <td>Buffet</td>\n",
       "      <td>Banashankari</td>\n",
       "    </tr>\n",
       "    <tr>\n",
       "      <th>3</th>\n",
       "      <td>Addhuri Udupi Bhojana</td>\n",
       "      <td>No</td>\n",
       "      <td>No</td>\n",
       "      <td>3.7</td>\n",
       "      <td>88</td>\n",
       "      <td>Banashankari</td>\n",
       "      <td>Quick Bites</td>\n",
       "      <td>Masala Dosa</td>\n",
       "      <td>South Indian, North Indian</td>\n",
       "      <td>300.0</td>\n",
       "      <td>[('Rated 4.0', \"RATED\\n  Great food and proper...</td>\n",
       "      <td>[]</td>\n",
       "      <td>Buffet</td>\n",
       "      <td>Banashankari</td>\n",
       "    </tr>\n",
       "    <tr>\n",
       "      <th>4</th>\n",
       "      <td>Grand Village</td>\n",
       "      <td>No</td>\n",
       "      <td>No</td>\n",
       "      <td>3.8</td>\n",
       "      <td>166</td>\n",
       "      <td>Basavanagudi</td>\n",
       "      <td>Casual Dining</td>\n",
       "      <td>Panipuri, Gol Gappe</td>\n",
       "      <td>North Indian, Rajasthani</td>\n",
       "      <td>600.0</td>\n",
       "      <td>[('Rated 4.0', 'RATED\\n  Very good restaurant ...</td>\n",
       "      <td>[]</td>\n",
       "      <td>Buffet</td>\n",
       "      <td>Banashankari</td>\n",
       "    </tr>\n",
       "  </tbody>\n",
       "</table>\n",
       "</div>"
      ],
      "text/plain": [
       "                    name online_order book_table  rate  votes      location  \\\n",
       "0                  Jalsa          Yes        Yes   4.1    775  Banashankari   \n",
       "1         Spice Elephant          Yes         No   4.1    787  Banashankari   \n",
       "2        San Churro Cafe          Yes         No   3.8    918  Banashankari   \n",
       "3  Addhuri Udupi Bhojana           No         No   3.7     88  Banashankari   \n",
       "4          Grand Village           No         No   3.8    166  Basavanagudi   \n",
       "\n",
       "             rest_type                                         dish_liked  \\\n",
       "0        Casual Dining  Pasta, Lunch Buffet, Masala Papad, Paneer Laja...   \n",
       "1        Casual Dining  Momos, Lunch Buffet, Chocolate Nirvana, Thai G...   \n",
       "2  Cafe, Casual Dining  Churros, Cannelloni, Minestrone Soup, Hot Choc...   \n",
       "3          Quick Bites                                        Masala Dosa   \n",
       "4        Casual Dining                                Panipuri, Gol Gappe   \n",
       "\n",
       "                         cuisines  cost_for_two  \\\n",
       "0  North Indian, Mughlai, Chinese         800.0   \n",
       "1     Chinese, North Indian, Thai         800.0   \n",
       "2          Cafe, Mexican, Italian         800.0   \n",
       "3      South Indian, North Indian         300.0   \n",
       "4        North Indian, Rajasthani         600.0   \n",
       "\n",
       "                                        reviews_list menu_item service_type  \\\n",
       "0  [('Rated 4.0', 'RATED\\n  A beautiful place to ...        []       Buffet   \n",
       "1  [('Rated 4.0', 'RATED\\n  Had been here for din...        []       Buffet   \n",
       "2  [('Rated 3.0', \"RATED\\n  Ambience is not that ...        []       Buffet   \n",
       "3  [('Rated 4.0', \"RATED\\n  Great food and proper...        []       Buffet   \n",
       "4  [('Rated 4.0', 'RATED\\n  Very good restaurant ...        []       Buffet   \n",
       "\n",
       "       serve_to  \n",
       "0  Banashankari  \n",
       "1  Banashankari  \n",
       "2  Banashankari  \n",
       "3  Banashankari  \n",
       "4  Banashankari  "
      ]
     },
     "execution_count": 86,
     "metadata": {},
     "output_type": "execute_result"
    }
   ],
   "source": [
    "df.head()"
   ]
  },
  {
   "cell_type": "code",
   "execution_count": 91,
   "id": "48bfca07",
   "metadata": {},
   "outputs": [
    {
     "data": {
      "text/plain": [
       "0"
      ]
     },
     "execution_count": 91,
     "metadata": {},
     "output_type": "execute_result"
    }
   ],
   "source": [
    "# Replacing the NaN values for the cost_two feature with mean value\n",
    "\n",
    "df['cost_for_two'] = df['cost_for_two'].fillna(df['cost_for_two'].mean())\n",
    "df.cost_for_two.isna().sum()"
   ]
  },
  {
   "cell_type": "code",
   "execution_count": 92,
   "id": "5487e36c",
   "metadata": {},
   "outputs": [
    {
     "name": "stderr",
     "output_type": "stream",
     "text": [
      "/Users/a/opt/anaconda3/lib/python3.8/site-packages/seaborn/distributions.py:2557: FutureWarning:\n",
      "\n",
      "`distplot` is a deprecated function and will be removed in a future version. Please adapt your code to use either `displot` (a figure-level function with similar flexibility) or `histplot` (an axes-level function for histograms).\n",
      "\n"
     ]
    },
    {
     "data": {
      "image/png": "[encoded data removed]",
      "text/plain": [
       "<Figure size 1008x504 with 1 Axes>"
      ]
     },
     "metadata": {},
     "output_type": "display_data"
    }
   ],
   "source": [
    "# Plotting a distplot for cost_two feature\n",
    "sns.distplot(df['cost_for_two'], color = 'darkgreen')\n",
    "plt.title('Rating Distribution')\n",
    "plt.show()"
   ]
  },
  {
   "cell_type": "markdown",
   "id": "8f865100",
   "metadata": {},
   "source": [
    "## Converting the categorical columns into integer\n"
   ]
  },
  {
   "cell_type": "markdown",
   "id": "eeadba73",
   "metadata": {},
   "source": [
    "We will perform One Hot Encoding operation on online_order,book_table,location,rest_type, cuisines columns."
   ]
  },
  {
   "cell_type": "code",
   "execution_count": 93,
   "id": "1b0b3876",
   "metadata": {},
   "outputs": [],
   "source": [
    "df['online_order'] = pd.get_dummies(df['online_order'], drop_first=True)\n",
    "df['book_table']   = pd.get_dummies(df['book_table'], drop_first=True)\n"
   ]
  },
  {
   "cell_type": "code",
   "execution_count": 94,
   "id": "779cf6e0",
   "metadata": {},
   "outputs": [
    {
     "data": {
      "text/html": [
       "<div>\n",
       "<style scoped>\n",
       "    .dataframe tbody tr th:only-of-type {\n",
       "        vertical-align: middle;\n",
       "    }\n",
       "\n",
       "    .dataframe tbody tr th {\n",
       "        vertical-align: top;\n",
       "    }\n",
       "\n",
       "    .dataframe thead th {\n",
       "        text-align: right;\n",
       "    }\n",
       "</style>\n",
       "<table border=\"1\" class=\"dataframe\">\n",
       "  <thead>\n",
       "    <tr style=\"text-align: right;\">\n",
       "      <th></th>\n",
       "      <th>name</th>\n",
       "      <th>online_order</th>\n",
       "      <th>book_table</th>\n",
       "      <th>rate</th>\n",
       "      <th>votes</th>\n",
       "      <th>location</th>\n",
       "      <th>rest_type</th>\n",
       "      <th>dish_liked</th>\n",
       "      <th>cuisines</th>\n",
       "      <th>cost_for_two</th>\n",
       "      <th>reviews_list</th>\n",
       "      <th>menu_item</th>\n",
       "      <th>service_type</th>\n",
       "      <th>serve_to</th>\n",
       "    </tr>\n",
       "  </thead>\n",
       "  <tbody>\n",
       "    <tr>\n",
       "      <th>0</th>\n",
       "      <td>Jalsa</td>\n",
       "      <td>1</td>\n",
       "      <td>1</td>\n",
       "      <td>4.1</td>\n",
       "      <td>775</td>\n",
       "      <td>Banashankari</td>\n",
       "      <td>Casual Dining</td>\n",
       "      <td>Pasta, Lunch Buffet, Masala Papad, Paneer Laja...</td>\n",
       "      <td>North Indian, Mughlai, Chinese</td>\n",
       "      <td>800.0</td>\n",
       "      <td>[('Rated 4.0', 'RATED\\n  A beautiful place to ...</td>\n",
       "      <td>[]</td>\n",
       "      <td>Buffet</td>\n",
       "      <td>Banashankari</td>\n",
       "    </tr>\n",
       "    <tr>\n",
       "      <th>1</th>\n",
       "      <td>Spice Elephant</td>\n",
       "      <td>1</td>\n",
       "      <td>0</td>\n",
       "      <td>4.1</td>\n",
       "      <td>787</td>\n",
       "      <td>Banashankari</td>\n",
       "      <td>Casual Dining</td>\n",
       "      <td>Momos, Lunch Buffet, Chocolate Nirvana, Thai G...</td>\n",
       "      <td>Chinese, North Indian, Thai</td>\n",
       "      <td>800.0</td>\n",
       "      <td>[('Rated 4.0', 'RATED\\n  Had been here for din...</td>\n",
       "      <td>[]</td>\n",
       "      <td>Buffet</td>\n",
       "      <td>Banashankari</td>\n",
       "    </tr>\n",
       "    <tr>\n",
       "      <th>2</th>\n",
       "      <td>San Churro Cafe</td>\n",
       "      <td>1</td>\n",
       "      <td>0</td>\n",
       "      <td>3.8</td>\n",
       "      <td>918</td>\n",
       "      <td>Banashankari</td>\n",
       "      <td>Cafe, Casual Dining</td>\n",
       "      <td>Churros, Cannelloni, Minestrone Soup, Hot Choc...</td>\n",
       "      <td>Cafe, Mexican, Italian</td>\n",
       "      <td>800.0</td>\n",
       "      <td>[('Rated 3.0', \"RATED\\n  Ambience is not that ...</td>\n",
       "      <td>[]</td>\n",
       "      <td>Buffet</td>\n",
       "      <td>Banashankari</td>\n",
       "    </tr>\n",
       "    <tr>\n",
       "      <th>3</th>\n",
       "      <td>Addhuri Udupi Bhojana</td>\n",
       "      <td>0</td>\n",
       "      <td>0</td>\n",
       "      <td>3.7</td>\n",
       "      <td>88</td>\n",
       "      <td>Banashankari</td>\n",
       "      <td>Quick Bites</td>\n",
       "      <td>Masala Dosa</td>\n",
       "      <td>South Indian, North Indian</td>\n",
       "      <td>300.0</td>\n",
       "      <td>[('Rated 4.0', \"RATED\\n  Great food and proper...</td>\n",
       "      <td>[]</td>\n",
       "      <td>Buffet</td>\n",
       "      <td>Banashankari</td>\n",
       "    </tr>\n",
       "    <tr>\n",
       "      <th>4</th>\n",
       "      <td>Grand Village</td>\n",
       "      <td>0</td>\n",
       "      <td>0</td>\n",
       "      <td>3.8</td>\n",
       "      <td>166</td>\n",
       "      <td>Basavanagudi</td>\n",
       "      <td>Casual Dining</td>\n",
       "      <td>Panipuri, Gol Gappe</td>\n",
       "      <td>North Indian, Rajasthani</td>\n",
       "      <td>600.0</td>\n",
       "      <td>[('Rated 4.0', 'RATED\\n  Very good restaurant ...</td>\n",
       "      <td>[]</td>\n",
       "      <td>Buffet</td>\n",
       "      <td>Banashankari</td>\n",
       "    </tr>\n",
       "  </tbody>\n",
       "</table>\n",
       "</div>"
      ],
      "text/plain": [
       "                    name  online_order  book_table  rate  votes      location  \\\n",
       "0                  Jalsa             1           1   4.1    775  Banashankari   \n",
       "1         Spice Elephant             1           0   4.1    787  Banashankari   \n",
       "2        San Churro Cafe             1           0   3.8    918  Banashankari   \n",
       "3  Addhuri Udupi Bhojana             0           0   3.7     88  Banashankari   \n",
       "4          Grand Village             0           0   3.8    166  Basavanagudi   \n",
       "\n",
       "             rest_type                                         dish_liked  \\\n",
       "0        Casual Dining  Pasta, Lunch Buffet, Masala Papad, Paneer Laja...   \n",
       "1        Casual Dining  Momos, Lunch Buffet, Chocolate Nirvana, Thai G...   \n",
       "2  Cafe, Casual Dining  Churros, Cannelloni, Minestrone Soup, Hot Choc...   \n",
       "3          Quick Bites                                        Masala Dosa   \n",
       "4        Casual Dining                                Panipuri, Gol Gappe   \n",
       "\n",
       "                         cuisines  cost_for_two  \\\n",
       "0  North Indian, Mughlai, Chinese         800.0   \n",
       "1     Chinese, North Indian, Thai         800.0   \n",
       "2          Cafe, Mexican, Italian         800.0   \n",
       "3      South Indian, North Indian         300.0   \n",
       "4        North Indian, Rajasthani         600.0   \n",
       "\n",
       "                                        reviews_list menu_item service_type  \\\n",
       "0  [('Rated 4.0', 'RATED\\n  A beautiful place to ...        []       Buffet   \n",
       "1  [('Rated 4.0', 'RATED\\n  Had been here for din...        []       Buffet   \n",
       "2  [('Rated 3.0', \"RATED\\n  Ambience is not that ...        []       Buffet   \n",
       "3  [('Rated 4.0', \"RATED\\n  Great food and proper...        []       Buffet   \n",
       "4  [('Rated 4.0', 'RATED\\n  Very good restaurant ...        []       Buffet   \n",
       "\n",
       "       serve_to  \n",
       "0  Banashankari  \n",
       "1  Banashankari  \n",
       "2  Banashankari  \n",
       "3  Banashankari  \n",
       "4  Banashankari  "
      ]
     },
     "execution_count": 94,
     "metadata": {},
     "output_type": "execute_result"
    }
   ],
   "source": [
    "df.head()"
   ]
  },
  {
   "cell_type": "code",
   "execution_count": 95,
   "id": "352a8966",
   "metadata": {},
   "outputs": [
    {
     "data": {
      "text/html": [
       "<div>\n",
       "<style scoped>\n",
       "    .dataframe tbody tr th:only-of-type {\n",
       "        vertical-align: middle;\n",
       "    }\n",
       "\n",
       "    .dataframe tbody tr th {\n",
       "        vertical-align: top;\n",
       "    }\n",
       "\n",
       "    .dataframe thead th {\n",
       "        text-align: right;\n",
       "    }\n",
       "</style>\n",
       "<table border=\"1\" class=\"dataframe\">\n",
       "  <thead>\n",
       "    <tr style=\"text-align: right;\">\n",
       "      <th></th>\n",
       "      <th>Bakery</th>\n",
       "      <th>Bakery, Beverage Shop</th>\n",
       "      <th>Bakery, Cafe</th>\n",
       "      <th>Bakery, Dessert Parlor</th>\n",
       "      <th>Bakery, Food Court</th>\n",
       "      <th>Bakery, Kiosk</th>\n",
       "      <th>Bakery, Quick Bites</th>\n",
       "      <th>Bakery, Sweet Shop</th>\n",
       "      <th>Bar</th>\n",
       "      <th>Bar, Cafe</th>\n",
       "      <th>...</th>\n",
       "      <th>Quick Bites, Food Court</th>\n",
       "      <th>Quick Bites, Kiosk</th>\n",
       "      <th>Quick Bites, Meat Shop</th>\n",
       "      <th>Quick Bites, Mess</th>\n",
       "      <th>Quick Bites, Sweet Shop</th>\n",
       "      <th>Sweet Shop</th>\n",
       "      <th>Sweet Shop, Dessert Parlor</th>\n",
       "      <th>Sweet Shop, Quick Bites</th>\n",
       "      <th>Takeaway</th>\n",
       "      <th>Takeaway, Delivery</th>\n",
       "    </tr>\n",
       "  </thead>\n",
       "  <tbody>\n",
       "    <tr>\n",
       "      <th>0</th>\n",
       "      <td>0</td>\n",
       "      <td>0</td>\n",
       "      <td>0</td>\n",
       "      <td>0</td>\n",
       "      <td>0</td>\n",
       "      <td>0</td>\n",
       "      <td>0</td>\n",
       "      <td>0</td>\n",
       "      <td>0</td>\n",
       "      <td>0</td>\n",
       "      <td>...</td>\n",
       "      <td>0</td>\n",
       "      <td>0</td>\n",
       "      <td>0</td>\n",
       "      <td>0</td>\n",
       "      <td>0</td>\n",
       "      <td>0</td>\n",
       "      <td>0</td>\n",
       "      <td>0</td>\n",
       "      <td>0</td>\n",
       "      <td>0</td>\n",
       "    </tr>\n",
       "    <tr>\n",
       "      <th>1</th>\n",
       "      <td>0</td>\n",
       "      <td>0</td>\n",
       "      <td>0</td>\n",
       "      <td>0</td>\n",
       "      <td>0</td>\n",
       "      <td>0</td>\n",
       "      <td>0</td>\n",
       "      <td>0</td>\n",
       "      <td>0</td>\n",
       "      <td>0</td>\n",
       "      <td>...</td>\n",
       "      <td>0</td>\n",
       "      <td>0</td>\n",
       "      <td>0</td>\n",
       "      <td>0</td>\n",
       "      <td>0</td>\n",
       "      <td>0</td>\n",
       "      <td>0</td>\n",
       "      <td>0</td>\n",
       "      <td>0</td>\n",
       "      <td>0</td>\n",
       "    </tr>\n",
       "    <tr>\n",
       "      <th>2</th>\n",
       "      <td>0</td>\n",
       "      <td>0</td>\n",
       "      <td>0</td>\n",
       "      <td>0</td>\n",
       "      <td>0</td>\n",
       "      <td>0</td>\n",
       "      <td>0</td>\n",
       "      <td>0</td>\n",
       "      <td>0</td>\n",
       "      <td>0</td>\n",
       "      <td>...</td>\n",
       "      <td>0</td>\n",
       "      <td>0</td>\n",
       "      <td>0</td>\n",
       "      <td>0</td>\n",
       "      <td>0</td>\n",
       "      <td>0</td>\n",
       "      <td>0</td>\n",
       "      <td>0</td>\n",
       "      <td>0</td>\n",
       "      <td>0</td>\n",
       "    </tr>\n",
       "  </tbody>\n",
       "</table>\n",
       "<p>3 rows × 93 columns</p>\n",
       "</div>"
      ],
      "text/plain": [
       "   Bakery  Bakery, Beverage Shop  Bakery, Cafe  Bakery, Dessert Parlor  \\\n",
       "0       0                      0             0                       0   \n",
       "1       0                      0             0                       0   \n",
       "2       0                      0             0                       0   \n",
       "\n",
       "   Bakery, Food Court  Bakery, Kiosk  Bakery, Quick Bites  Bakery, Sweet Shop  \\\n",
       "0                   0              0                    0                   0   \n",
       "1                   0              0                    0                   0   \n",
       "2                   0              0                    0                   0   \n",
       "\n",
       "   Bar  Bar, Cafe  ...  Quick Bites, Food Court  Quick Bites, Kiosk  \\\n",
       "0    0          0  ...                        0                   0   \n",
       "1    0          0  ...                        0                   0   \n",
       "2    0          0  ...                        0                   0   \n",
       "\n",
       "   Quick Bites, Meat Shop  Quick Bites, Mess  Quick Bites, Sweet Shop  \\\n",
       "0                       0                  0                        0   \n",
       "1                       0                  0                        0   \n",
       "2                       0                  0                        0   \n",
       "\n",
       "   Sweet Shop  Sweet Shop, Dessert Parlor  Sweet Shop, Quick Bites  Takeaway  \\\n",
       "0           0                           0                        0         0   \n",
       "1           0                           0                        0         0   \n",
       "2           0                           0                        0         0   \n",
       "\n",
       "   Takeaway, Delivery  \n",
       "0                   0  \n",
       "1                   0  \n",
       "2                   0  \n",
       "\n",
       "[3 rows x 93 columns]"
      ]
     },
     "execution_count": 95,
     "metadata": {},
     "output_type": "execute_result"
    }
   ],
   "source": [
    "# Performing One Hot Encoding on rest_type\n",
    "\n",
    "get_dummies_rest_type = pd.get_dummies(df.rest_type)\n",
    "get_dummies_rest_type.head(3)"
   ]
  },
  {
   "cell_type": "code",
   "execution_count": 96,
   "id": "786f95d8",
   "metadata": {},
   "outputs": [
    {
     "data": {
      "text/html": [
       "<div>\n",
       "<style scoped>\n",
       "    .dataframe tbody tr th:only-of-type {\n",
       "        vertical-align: middle;\n",
       "    }\n",
       "\n",
       "    .dataframe tbody tr th {\n",
       "        vertical-align: top;\n",
       "    }\n",
       "\n",
       "    .dataframe thead th {\n",
       "        text-align: right;\n",
       "    }\n",
       "</style>\n",
       "<table border=\"1\" class=\"dataframe\">\n",
       "  <thead>\n",
       "    <tr style=\"text-align: right;\">\n",
       "      <th></th>\n",
       "      <th>BTM</th>\n",
       "      <th>Banashankari</th>\n",
       "      <th>Banaswadi</th>\n",
       "      <th>Bannerghatta Road</th>\n",
       "      <th>Basavanagudi</th>\n",
       "      <th>Basaveshwara Nagar</th>\n",
       "      <th>Bellandur</th>\n",
       "      <th>Bommanahalli</th>\n",
       "      <th>Brigade Road</th>\n",
       "      <th>Brookefield</th>\n",
       "      <th>...</th>\n",
       "      <th>Ulsoor</th>\n",
       "      <th>Uttarahalli</th>\n",
       "      <th>Varthur Main Road, Whitefield</th>\n",
       "      <th>Vasanth Nagar</th>\n",
       "      <th>Vijay Nagar</th>\n",
       "      <th>West Bangalore</th>\n",
       "      <th>Whitefield</th>\n",
       "      <th>Wilson Garden</th>\n",
       "      <th>Yelahanka</th>\n",
       "      <th>Yeshwantpur</th>\n",
       "    </tr>\n",
       "  </thead>\n",
       "  <tbody>\n",
       "    <tr>\n",
       "      <th>0</th>\n",
       "      <td>0</td>\n",
       "      <td>1</td>\n",
       "      <td>0</td>\n",
       "      <td>0</td>\n",
       "      <td>0</td>\n",
       "      <td>0</td>\n",
       "      <td>0</td>\n",
       "      <td>0</td>\n",
       "      <td>0</td>\n",
       "      <td>0</td>\n",
       "      <td>...</td>\n",
       "      <td>0</td>\n",
       "      <td>0</td>\n",
       "      <td>0</td>\n",
       "      <td>0</td>\n",
       "      <td>0</td>\n",
       "      <td>0</td>\n",
       "      <td>0</td>\n",
       "      <td>0</td>\n",
       "      <td>0</td>\n",
       "      <td>0</td>\n",
       "    </tr>\n",
       "    <tr>\n",
       "      <th>1</th>\n",
       "      <td>0</td>\n",
       "      <td>1</td>\n",
       "      <td>0</td>\n",
       "      <td>0</td>\n",
       "      <td>0</td>\n",
       "      <td>0</td>\n",
       "      <td>0</td>\n",
       "      <td>0</td>\n",
       "      <td>0</td>\n",
       "      <td>0</td>\n",
       "      <td>...</td>\n",
       "      <td>0</td>\n",
       "      <td>0</td>\n",
       "      <td>0</td>\n",
       "      <td>0</td>\n",
       "      <td>0</td>\n",
       "      <td>0</td>\n",
       "      <td>0</td>\n",
       "      <td>0</td>\n",
       "      <td>0</td>\n",
       "      <td>0</td>\n",
       "    </tr>\n",
       "    <tr>\n",
       "      <th>2</th>\n",
       "      <td>0</td>\n",
       "      <td>1</td>\n",
       "      <td>0</td>\n",
       "      <td>0</td>\n",
       "      <td>0</td>\n",
       "      <td>0</td>\n",
       "      <td>0</td>\n",
       "      <td>0</td>\n",
       "      <td>0</td>\n",
       "      <td>0</td>\n",
       "      <td>...</td>\n",
       "      <td>0</td>\n",
       "      <td>0</td>\n",
       "      <td>0</td>\n",
       "      <td>0</td>\n",
       "      <td>0</td>\n",
       "      <td>0</td>\n",
       "      <td>0</td>\n",
       "      <td>0</td>\n",
       "      <td>0</td>\n",
       "      <td>0</td>\n",
       "    </tr>\n",
       "  </tbody>\n",
       "</table>\n",
       "<p>3 rows × 93 columns</p>\n",
       "</div>"
      ],
      "text/plain": [
       "   BTM  Banashankari  Banaswadi  Bannerghatta Road  Basavanagudi  \\\n",
       "0    0             1          0                  0             0   \n",
       "1    0             1          0                  0             0   \n",
       "2    0             1          0                  0             0   \n",
       "\n",
       "   Basaveshwara Nagar  Bellandur  Bommanahalli  Brigade Road  Brookefield  \\\n",
       "0                   0          0             0             0            0   \n",
       "1                   0          0             0             0            0   \n",
       "2                   0          0             0             0            0   \n",
       "\n",
       "   ...  Ulsoor  Uttarahalli  Varthur Main Road, Whitefield  Vasanth Nagar  \\\n",
       "0  ...       0            0                              0              0   \n",
       "1  ...       0            0                              0              0   \n",
       "2  ...       0            0                              0              0   \n",
       "\n",
       "   Vijay Nagar  West Bangalore  Whitefield  Wilson Garden  Yelahanka  \\\n",
       "0            0               0           0              0          0   \n",
       "1            0               0           0              0          0   \n",
       "2            0               0           0              0          0   \n",
       "\n",
       "   Yeshwantpur  \n",
       "0            0  \n",
       "1            0  \n",
       "2            0  \n",
       "\n",
       "[3 rows x 93 columns]"
      ]
     },
     "execution_count": 96,
     "metadata": {},
     "output_type": "execute_result"
    }
   ],
   "source": [
    "# Performing One Hot Encoding on location\n",
    "\n",
    "get_dummies_location = pd.get_dummies(df.location)\n",
    "get_dummies_location.head(3)"
   ]
  },
  {
   "cell_type": "code",
   "execution_count": 97,
   "id": "83bbe8f1",
   "metadata": {},
   "outputs": [
    {
     "data": {
      "text/html": [
       "<div>\n",
       "<style scoped>\n",
       "    .dataframe tbody tr th:only-of-type {\n",
       "        vertical-align: middle;\n",
       "    }\n",
       "\n",
       "    .dataframe tbody tr th {\n",
       "        vertical-align: top;\n",
       "    }\n",
       "\n",
       "    .dataframe thead th {\n",
       "        text-align: right;\n",
       "    }\n",
       "</style>\n",
       "<table border=\"1\" class=\"dataframe\">\n",
       "  <thead>\n",
       "    <tr style=\"text-align: right;\">\n",
       "      <th></th>\n",
       "      <th>Buffet</th>\n",
       "      <th>Cafes</th>\n",
       "      <th>Delivery</th>\n",
       "      <th>Desserts</th>\n",
       "      <th>Dine-out</th>\n",
       "      <th>Drinks &amp; nightlife</th>\n",
       "      <th>Pubs and bars</th>\n",
       "    </tr>\n",
       "  </thead>\n",
       "  <tbody>\n",
       "    <tr>\n",
       "      <th>0</th>\n",
       "      <td>1</td>\n",
       "      <td>0</td>\n",
       "      <td>0</td>\n",
       "      <td>0</td>\n",
       "      <td>0</td>\n",
       "      <td>0</td>\n",
       "      <td>0</td>\n",
       "    </tr>\n",
       "    <tr>\n",
       "      <th>1</th>\n",
       "      <td>1</td>\n",
       "      <td>0</td>\n",
       "      <td>0</td>\n",
       "      <td>0</td>\n",
       "      <td>0</td>\n",
       "      <td>0</td>\n",
       "      <td>0</td>\n",
       "    </tr>\n",
       "    <tr>\n",
       "      <th>2</th>\n",
       "      <td>1</td>\n",
       "      <td>0</td>\n",
       "      <td>0</td>\n",
       "      <td>0</td>\n",
       "      <td>0</td>\n",
       "      <td>0</td>\n",
       "      <td>0</td>\n",
       "    </tr>\n",
       "  </tbody>\n",
       "</table>\n",
       "</div>"
      ],
      "text/plain": [
       "   Buffet  Cafes  Delivery  Desserts  Dine-out  Drinks & nightlife  \\\n",
       "0       1      0         0         0         0                   0   \n",
       "1       1      0         0         0         0                   0   \n",
       "2       1      0         0         0         0                   0   \n",
       "\n",
       "   Pubs and bars  \n",
       "0              0  \n",
       "1              0  \n",
       "2              0  "
      ]
     },
     "execution_count": 97,
     "metadata": {},
     "output_type": "execute_result"
    }
   ],
   "source": [
    "# Performing One Hot Encoding on service type\n",
    "\n",
    "get_dummies_service_type = pd.get_dummies(df.service_type)\n",
    "get_dummies_service_type.head(3)"
   ]
  },
  {
   "cell_type": "code",
   "execution_count": 98,
   "id": "5fe43c92",
   "metadata": {},
   "outputs": [
    {
     "data": {
      "text/html": [
       "<div>\n",
       "<style scoped>\n",
       "    .dataframe tbody tr th:only-of-type {\n",
       "        vertical-align: middle;\n",
       "    }\n",
       "\n",
       "    .dataframe tbody tr th {\n",
       "        vertical-align: top;\n",
       "    }\n",
       "\n",
       "    .dataframe thead th {\n",
       "        text-align: right;\n",
       "    }\n",
       "</style>\n",
       "<table border=\"1\" class=\"dataframe\">\n",
       "  <thead>\n",
       "    <tr style=\"text-align: right;\">\n",
       "      <th></th>\n",
       "      <th>name</th>\n",
       "      <th>online_order</th>\n",
       "      <th>book_table</th>\n",
       "      <th>rate</th>\n",
       "      <th>votes</th>\n",
       "      <th>location</th>\n",
       "      <th>rest_type</th>\n",
       "      <th>dish_liked</th>\n",
       "      <th>cuisines</th>\n",
       "      <th>cost_for_two</th>\n",
       "      <th>...</th>\n",
       "      <th>Ulsoor</th>\n",
       "      <th>Uttarahalli</th>\n",
       "      <th>Varthur Main Road, Whitefield</th>\n",
       "      <th>Vasanth Nagar</th>\n",
       "      <th>Vijay Nagar</th>\n",
       "      <th>West Bangalore</th>\n",
       "      <th>Whitefield</th>\n",
       "      <th>Wilson Garden</th>\n",
       "      <th>Yelahanka</th>\n",
       "      <th>Yeshwantpur</th>\n",
       "    </tr>\n",
       "  </thead>\n",
       "  <tbody>\n",
       "    <tr>\n",
       "      <th>0</th>\n",
       "      <td>Jalsa</td>\n",
       "      <td>1</td>\n",
       "      <td>1</td>\n",
       "      <td>4.1</td>\n",
       "      <td>775</td>\n",
       "      <td>Banashankari</td>\n",
       "      <td>Casual Dining</td>\n",
       "      <td>Pasta, Lunch Buffet, Masala Papad, Paneer Laja...</td>\n",
       "      <td>North Indian, Mughlai, Chinese</td>\n",
       "      <td>800.0</td>\n",
       "      <td>...</td>\n",
       "      <td>0</td>\n",
       "      <td>0</td>\n",
       "      <td>0</td>\n",
       "      <td>0</td>\n",
       "      <td>0</td>\n",
       "      <td>0</td>\n",
       "      <td>0</td>\n",
       "      <td>0</td>\n",
       "      <td>0</td>\n",
       "      <td>0</td>\n",
       "    </tr>\n",
       "    <tr>\n",
       "      <th>1</th>\n",
       "      <td>Spice Elephant</td>\n",
       "      <td>1</td>\n",
       "      <td>0</td>\n",
       "      <td>4.1</td>\n",
       "      <td>787</td>\n",
       "      <td>Banashankari</td>\n",
       "      <td>Casual Dining</td>\n",
       "      <td>Momos, Lunch Buffet, Chocolate Nirvana, Thai G...</td>\n",
       "      <td>Chinese, North Indian, Thai</td>\n",
       "      <td>800.0</td>\n",
       "      <td>...</td>\n",
       "      <td>0</td>\n",
       "      <td>0</td>\n",
       "      <td>0</td>\n",
       "      <td>0</td>\n",
       "      <td>0</td>\n",
       "      <td>0</td>\n",
       "      <td>0</td>\n",
       "      <td>0</td>\n",
       "      <td>0</td>\n",
       "      <td>0</td>\n",
       "    </tr>\n",
       "    <tr>\n",
       "      <th>2</th>\n",
       "      <td>San Churro Cafe</td>\n",
       "      <td>1</td>\n",
       "      <td>0</td>\n",
       "      <td>3.8</td>\n",
       "      <td>918</td>\n",
       "      <td>Banashankari</td>\n",
       "      <td>Cafe, Casual Dining</td>\n",
       "      <td>Churros, Cannelloni, Minestrone Soup, Hot Choc...</td>\n",
       "      <td>Cafe, Mexican, Italian</td>\n",
       "      <td>800.0</td>\n",
       "      <td>...</td>\n",
       "      <td>0</td>\n",
       "      <td>0</td>\n",
       "      <td>0</td>\n",
       "      <td>0</td>\n",
       "      <td>0</td>\n",
       "      <td>0</td>\n",
       "      <td>0</td>\n",
       "      <td>0</td>\n",
       "      <td>0</td>\n",
       "      <td>0</td>\n",
       "    </tr>\n",
       "    <tr>\n",
       "      <th>3</th>\n",
       "      <td>Addhuri Udupi Bhojana</td>\n",
       "      <td>0</td>\n",
       "      <td>0</td>\n",
       "      <td>3.7</td>\n",
       "      <td>88</td>\n",
       "      <td>Banashankari</td>\n",
       "      <td>Quick Bites</td>\n",
       "      <td>Masala Dosa</td>\n",
       "      <td>South Indian, North Indian</td>\n",
       "      <td>300.0</td>\n",
       "      <td>...</td>\n",
       "      <td>0</td>\n",
       "      <td>0</td>\n",
       "      <td>0</td>\n",
       "      <td>0</td>\n",
       "      <td>0</td>\n",
       "      <td>0</td>\n",
       "      <td>0</td>\n",
       "      <td>0</td>\n",
       "      <td>0</td>\n",
       "      <td>0</td>\n",
       "    </tr>\n",
       "    <tr>\n",
       "      <th>4</th>\n",
       "      <td>Grand Village</td>\n",
       "      <td>0</td>\n",
       "      <td>0</td>\n",
       "      <td>3.8</td>\n",
       "      <td>166</td>\n",
       "      <td>Basavanagudi</td>\n",
       "      <td>Casual Dining</td>\n",
       "      <td>Panipuri, Gol Gappe</td>\n",
       "      <td>North Indian, Rajasthani</td>\n",
       "      <td>600.0</td>\n",
       "      <td>...</td>\n",
       "      <td>0</td>\n",
       "      <td>0</td>\n",
       "      <td>0</td>\n",
       "      <td>0</td>\n",
       "      <td>0</td>\n",
       "      <td>0</td>\n",
       "      <td>0</td>\n",
       "      <td>0</td>\n",
       "      <td>0</td>\n",
       "      <td>0</td>\n",
       "    </tr>\n",
       "  </tbody>\n",
       "</table>\n",
       "<p>5 rows × 207 columns</p>\n",
       "</div>"
      ],
      "text/plain": [
       "                    name  online_order  book_table  rate  votes      location  \\\n",
       "0                  Jalsa             1           1   4.1    775  Banashankari   \n",
       "1         Spice Elephant             1           0   4.1    787  Banashankari   \n",
       "2        San Churro Cafe             1           0   3.8    918  Banashankari   \n",
       "3  Addhuri Udupi Bhojana             0           0   3.7     88  Banashankari   \n",
       "4          Grand Village             0           0   3.8    166  Basavanagudi   \n",
       "\n",
       "             rest_type                                         dish_liked  \\\n",
       "0        Casual Dining  Pasta, Lunch Buffet, Masala Papad, Paneer Laja...   \n",
       "1        Casual Dining  Momos, Lunch Buffet, Chocolate Nirvana, Thai G...   \n",
       "2  Cafe, Casual Dining  Churros, Cannelloni, Minestrone Soup, Hot Choc...   \n",
       "3          Quick Bites                                        Masala Dosa   \n",
       "4        Casual Dining                                Panipuri, Gol Gappe   \n",
       "\n",
       "                         cuisines  cost_for_two  ... Ulsoor Uttarahalli  \\\n",
       "0  North Indian, Mughlai, Chinese         800.0  ...      0           0   \n",
       "1     Chinese, North Indian, Thai         800.0  ...      0           0   \n",
       "2          Cafe, Mexican, Italian         800.0  ...      0           0   \n",
       "3      South Indian, North Indian         300.0  ...      0           0   \n",
       "4        North Indian, Rajasthani         600.0  ...      0           0   \n",
       "\n",
       "  Varthur Main Road, Whitefield Vasanth Nagar  Vijay Nagar  West Bangalore  \\\n",
       "0                             0             0            0               0   \n",
       "1                             0             0            0               0   \n",
       "2                             0             0            0               0   \n",
       "3                             0             0            0               0   \n",
       "4                             0             0            0               0   \n",
       "\n",
       "   Whitefield  Wilson Garden  Yelahanka  Yeshwantpur  \n",
       "0           0              0          0            0  \n",
       "1           0              0          0            0  \n",
       "2           0              0          0            0  \n",
       "3           0              0          0            0  \n",
       "4           0              0          0            0  \n",
       "\n",
       "[5 rows x 207 columns]"
      ]
     },
     "execution_count": 98,
     "metadata": {},
     "output_type": "execute_result"
    }
   ],
   "source": [
    "# Concatinating the dataframes\n",
    "final_df = pd.concat([df,get_dummies_rest_type,get_dummies_service_type, get_dummies_location], axis = 1)\n",
    "final_df.head()"
   ]
  },
  {
   "cell_type": "code",
   "execution_count": 99,
   "id": "901a3c7a",
   "metadata": {},
   "outputs": [
    {
     "data": {
      "text/html": [
       "<div>\n",
       "<style scoped>\n",
       "    .dataframe tbody tr th:only-of-type {\n",
       "        vertical-align: middle;\n",
       "    }\n",
       "\n",
       "    .dataframe tbody tr th {\n",
       "        vertical-align: top;\n",
       "    }\n",
       "\n",
       "    .dataframe thead th {\n",
       "        text-align: right;\n",
       "    }\n",
       "</style>\n",
       "<table border=\"1\" class=\"dataframe\">\n",
       "  <thead>\n",
       "    <tr style=\"text-align: right;\">\n",
       "      <th></th>\n",
       "      <th>online_order</th>\n",
       "      <th>book_table</th>\n",
       "      <th>rate</th>\n",
       "      <th>votes</th>\n",
       "      <th>cost_for_two</th>\n",
       "      <th>menu_item</th>\n",
       "      <th>service_type</th>\n",
       "      <th>serve_to</th>\n",
       "      <th>Bakery</th>\n",
       "      <th>Bakery, Beverage Shop</th>\n",
       "      <th>...</th>\n",
       "      <th>Ulsoor</th>\n",
       "      <th>Uttarahalli</th>\n",
       "      <th>Varthur Main Road, Whitefield</th>\n",
       "      <th>Vasanth Nagar</th>\n",
       "      <th>Vijay Nagar</th>\n",
       "      <th>West Bangalore</th>\n",
       "      <th>Whitefield</th>\n",
       "      <th>Wilson Garden</th>\n",
       "      <th>Yelahanka</th>\n",
       "      <th>Yeshwantpur</th>\n",
       "    </tr>\n",
       "  </thead>\n",
       "  <tbody>\n",
       "    <tr>\n",
       "      <th>0</th>\n",
       "      <td>1</td>\n",
       "      <td>1</td>\n",
       "      <td>4.1</td>\n",
       "      <td>775</td>\n",
       "      <td>800.0</td>\n",
       "      <td>[]</td>\n",
       "      <td>Buffet</td>\n",
       "      <td>Banashankari</td>\n",
       "      <td>0</td>\n",
       "      <td>0</td>\n",
       "      <td>...</td>\n",
       "      <td>0</td>\n",
       "      <td>0</td>\n",
       "      <td>0</td>\n",
       "      <td>0</td>\n",
       "      <td>0</td>\n",
       "      <td>0</td>\n",
       "      <td>0</td>\n",
       "      <td>0</td>\n",
       "      <td>0</td>\n",
       "      <td>0</td>\n",
       "    </tr>\n",
       "    <tr>\n",
       "      <th>1</th>\n",
       "      <td>1</td>\n",
       "      <td>0</td>\n",
       "      <td>4.1</td>\n",
       "      <td>787</td>\n",
       "      <td>800.0</td>\n",
       "      <td>[]</td>\n",
       "      <td>Buffet</td>\n",
       "      <td>Banashankari</td>\n",
       "      <td>0</td>\n",
       "      <td>0</td>\n",
       "      <td>...</td>\n",
       "      <td>0</td>\n",
       "      <td>0</td>\n",
       "      <td>0</td>\n",
       "      <td>0</td>\n",
       "      <td>0</td>\n",
       "      <td>0</td>\n",
       "      <td>0</td>\n",
       "      <td>0</td>\n",
       "      <td>0</td>\n",
       "      <td>0</td>\n",
       "    </tr>\n",
       "    <tr>\n",
       "      <th>2</th>\n",
       "      <td>1</td>\n",
       "      <td>0</td>\n",
       "      <td>3.8</td>\n",
       "      <td>918</td>\n",
       "      <td>800.0</td>\n",
       "      <td>[]</td>\n",
       "      <td>Buffet</td>\n",
       "      <td>Banashankari</td>\n",
       "      <td>0</td>\n",
       "      <td>0</td>\n",
       "      <td>...</td>\n",
       "      <td>0</td>\n",
       "      <td>0</td>\n",
       "      <td>0</td>\n",
       "      <td>0</td>\n",
       "      <td>0</td>\n",
       "      <td>0</td>\n",
       "      <td>0</td>\n",
       "      <td>0</td>\n",
       "      <td>0</td>\n",
       "      <td>0</td>\n",
       "    </tr>\n",
       "    <tr>\n",
       "      <th>3</th>\n",
       "      <td>0</td>\n",
       "      <td>0</td>\n",
       "      <td>3.7</td>\n",
       "      <td>88</td>\n",
       "      <td>300.0</td>\n",
       "      <td>[]</td>\n",
       "      <td>Buffet</td>\n",
       "      <td>Banashankari</td>\n",
       "      <td>0</td>\n",
       "      <td>0</td>\n",
       "      <td>...</td>\n",
       "      <td>0</td>\n",
       "      <td>0</td>\n",
       "      <td>0</td>\n",
       "      <td>0</td>\n",
       "      <td>0</td>\n",
       "      <td>0</td>\n",
       "      <td>0</td>\n",
       "      <td>0</td>\n",
       "      <td>0</td>\n",
       "      <td>0</td>\n",
       "    </tr>\n",
       "    <tr>\n",
       "      <th>4</th>\n",
       "      <td>0</td>\n",
       "      <td>0</td>\n",
       "      <td>3.8</td>\n",
       "      <td>166</td>\n",
       "      <td>600.0</td>\n",
       "      <td>[]</td>\n",
       "      <td>Buffet</td>\n",
       "      <td>Banashankari</td>\n",
       "      <td>0</td>\n",
       "      <td>0</td>\n",
       "      <td>...</td>\n",
       "      <td>0</td>\n",
       "      <td>0</td>\n",
       "      <td>0</td>\n",
       "      <td>0</td>\n",
       "      <td>0</td>\n",
       "      <td>0</td>\n",
       "      <td>0</td>\n",
       "      <td>0</td>\n",
       "      <td>0</td>\n",
       "      <td>0</td>\n",
       "    </tr>\n",
       "  </tbody>\n",
       "</table>\n",
       "<p>5 rows × 201 columns</p>\n",
       "</div>"
      ],
      "text/plain": [
       "   online_order  book_table  rate  votes  cost_for_two menu_item service_type  \\\n",
       "0             1           1   4.1    775         800.0        []       Buffet   \n",
       "1             1           0   4.1    787         800.0        []       Buffet   \n",
       "2             1           0   3.8    918         800.0        []       Buffet   \n",
       "3             0           0   3.7     88         300.0        []       Buffet   \n",
       "4             0           0   3.8    166         600.0        []       Buffet   \n",
       "\n",
       "       serve_to  Bakery  Bakery, Beverage Shop  ...  Ulsoor  Uttarahalli  \\\n",
       "0  Banashankari       0                      0  ...       0            0   \n",
       "1  Banashankari       0                      0  ...       0            0   \n",
       "2  Banashankari       0                      0  ...       0            0   \n",
       "3  Banashankari       0                      0  ...       0            0   \n",
       "4  Banashankari       0                      0  ...       0            0   \n",
       "\n",
       "   Varthur Main Road, Whitefield  Vasanth Nagar  Vijay Nagar  West Bangalore  \\\n",
       "0                              0              0            0               0   \n",
       "1                              0              0            0               0   \n",
       "2                              0              0            0               0   \n",
       "3                              0              0            0               0   \n",
       "4                              0              0            0               0   \n",
       "\n",
       "   Whitefield  Wilson Garden  Yelahanka  Yeshwantpur  \n",
       "0           0              0          0            0  \n",
       "1           0              0          0            0  \n",
       "2           0              0          0            0  \n",
       "3           0              0          0            0  \n",
       "4           0              0          0            0  \n",
       "\n",
       "[5 rows x 201 columns]"
      ]
     },
     "execution_count": 99,
     "metadata": {},
     "output_type": "execute_result"
    }
   ],
   "source": [
    "final_df = final_df.drop([\"name\",\"rest_type\",\"location\", 'cuisines', 'dish_liked', 'reviews_list'],axis = 1)\n",
    "final_df.head()"
   ]
  },
  {
   "cell_type": "code",
   "execution_count": 100,
   "id": "461182fc",
   "metadata": {},
   "outputs": [
    {
     "data": {
      "text/html": [
       "<div>\n",
       "<style scoped>\n",
       "    .dataframe tbody tr th:only-of-type {\n",
       "        vertical-align: middle;\n",
       "    }\n",
       "\n",
       "    .dataframe tbody tr th {\n",
       "        vertical-align: top;\n",
       "    }\n",
       "\n",
       "    .dataframe thead th {\n",
       "        text-align: right;\n",
       "    }\n",
       "</style>\n",
       "<table border=\"1\" class=\"dataframe\">\n",
       "  <thead>\n",
       "    <tr style=\"text-align: right;\">\n",
       "      <th></th>\n",
       "      <th>online_order</th>\n",
       "      <th>book_table</th>\n",
       "      <th>rate</th>\n",
       "      <th>votes</th>\n",
       "      <th>cost_for_two</th>\n",
       "      <th>Bakery</th>\n",
       "      <th>Bakery, Beverage Shop</th>\n",
       "      <th>Bakery, Cafe</th>\n",
       "      <th>Bakery, Dessert Parlor</th>\n",
       "      <th>Bakery, Food Court</th>\n",
       "      <th>...</th>\n",
       "      <th>Ulsoor</th>\n",
       "      <th>Uttarahalli</th>\n",
       "      <th>Varthur Main Road, Whitefield</th>\n",
       "      <th>Vasanth Nagar</th>\n",
       "      <th>Vijay Nagar</th>\n",
       "      <th>West Bangalore</th>\n",
       "      <th>Whitefield</th>\n",
       "      <th>Wilson Garden</th>\n",
       "      <th>Yelahanka</th>\n",
       "      <th>Yeshwantpur</th>\n",
       "    </tr>\n",
       "  </thead>\n",
       "  <tbody>\n",
       "    <tr>\n",
       "      <th>0</th>\n",
       "      <td>1</td>\n",
       "      <td>1</td>\n",
       "      <td>4.1</td>\n",
       "      <td>775</td>\n",
       "      <td>800.0</td>\n",
       "      <td>0</td>\n",
       "      <td>0</td>\n",
       "      <td>0</td>\n",
       "      <td>0</td>\n",
       "      <td>0</td>\n",
       "      <td>...</td>\n",
       "      <td>0</td>\n",
       "      <td>0</td>\n",
       "      <td>0</td>\n",
       "      <td>0</td>\n",
       "      <td>0</td>\n",
       "      <td>0</td>\n",
       "      <td>0</td>\n",
       "      <td>0</td>\n",
       "      <td>0</td>\n",
       "      <td>0</td>\n",
       "    </tr>\n",
       "    <tr>\n",
       "      <th>1</th>\n",
       "      <td>1</td>\n",
       "      <td>0</td>\n",
       "      <td>4.1</td>\n",
       "      <td>787</td>\n",
       "      <td>800.0</td>\n",
       "      <td>0</td>\n",
       "      <td>0</td>\n",
       "      <td>0</td>\n",
       "      <td>0</td>\n",
       "      <td>0</td>\n",
       "      <td>...</td>\n",
       "      <td>0</td>\n",
       "      <td>0</td>\n",
       "      <td>0</td>\n",
       "      <td>0</td>\n",
       "      <td>0</td>\n",
       "      <td>0</td>\n",
       "      <td>0</td>\n",
       "      <td>0</td>\n",
       "      <td>0</td>\n",
       "      <td>0</td>\n",
       "    </tr>\n",
       "    <tr>\n",
       "      <th>2</th>\n",
       "      <td>1</td>\n",
       "      <td>0</td>\n",
       "      <td>3.8</td>\n",
       "      <td>918</td>\n",
       "      <td>800.0</td>\n",
       "      <td>0</td>\n",
       "      <td>0</td>\n",
       "      <td>0</td>\n",
       "      <td>0</td>\n",
       "      <td>0</td>\n",
       "      <td>...</td>\n",
       "      <td>0</td>\n",
       "      <td>0</td>\n",
       "      <td>0</td>\n",
       "      <td>0</td>\n",
       "      <td>0</td>\n",
       "      <td>0</td>\n",
       "      <td>0</td>\n",
       "      <td>0</td>\n",
       "      <td>0</td>\n",
       "      <td>0</td>\n",
       "    </tr>\n",
       "    <tr>\n",
       "      <th>3</th>\n",
       "      <td>0</td>\n",
       "      <td>0</td>\n",
       "      <td>3.7</td>\n",
       "      <td>88</td>\n",
       "      <td>300.0</td>\n",
       "      <td>0</td>\n",
       "      <td>0</td>\n",
       "      <td>0</td>\n",
       "      <td>0</td>\n",
       "      <td>0</td>\n",
       "      <td>...</td>\n",
       "      <td>0</td>\n",
       "      <td>0</td>\n",
       "      <td>0</td>\n",
       "      <td>0</td>\n",
       "      <td>0</td>\n",
       "      <td>0</td>\n",
       "      <td>0</td>\n",
       "      <td>0</td>\n",
       "      <td>0</td>\n",
       "      <td>0</td>\n",
       "    </tr>\n",
       "    <tr>\n",
       "      <th>4</th>\n",
       "      <td>0</td>\n",
       "      <td>0</td>\n",
       "      <td>3.8</td>\n",
       "      <td>166</td>\n",
       "      <td>600.0</td>\n",
       "      <td>0</td>\n",
       "      <td>0</td>\n",
       "      <td>0</td>\n",
       "      <td>0</td>\n",
       "      <td>0</td>\n",
       "      <td>...</td>\n",
       "      <td>0</td>\n",
       "      <td>0</td>\n",
       "      <td>0</td>\n",
       "      <td>0</td>\n",
       "      <td>0</td>\n",
       "      <td>0</td>\n",
       "      <td>0</td>\n",
       "      <td>0</td>\n",
       "      <td>0</td>\n",
       "      <td>0</td>\n",
       "    </tr>\n",
       "  </tbody>\n",
       "</table>\n",
       "<p>5 rows × 198 columns</p>\n",
       "</div>"
      ],
      "text/plain": [
       "   online_order  book_table  rate  votes  cost_for_two  Bakery  \\\n",
       "0             1           1   4.1    775         800.0       0   \n",
       "1             1           0   4.1    787         800.0       0   \n",
       "2             1           0   3.8    918         800.0       0   \n",
       "3             0           0   3.7     88         300.0       0   \n",
       "4             0           0   3.8    166         600.0       0   \n",
       "\n",
       "   Bakery, Beverage Shop  Bakery, Cafe  Bakery, Dessert Parlor  \\\n",
       "0                      0             0                       0   \n",
       "1                      0             0                       0   \n",
       "2                      0             0                       0   \n",
       "3                      0             0                       0   \n",
       "4                      0             0                       0   \n",
       "\n",
       "   Bakery, Food Court  ...  Ulsoor  Uttarahalli  \\\n",
       "0                   0  ...       0            0   \n",
       "1                   0  ...       0            0   \n",
       "2                   0  ...       0            0   \n",
       "3                   0  ...       0            0   \n",
       "4                   0  ...       0            0   \n",
       "\n",
       "   Varthur Main Road, Whitefield  Vasanth Nagar  Vijay Nagar  West Bangalore  \\\n",
       "0                              0              0            0               0   \n",
       "1                              0              0            0               0   \n",
       "2                              0              0            0               0   \n",
       "3                              0              0            0               0   \n",
       "4                              0              0            0               0   \n",
       "\n",
       "   Whitefield  Wilson Garden  Yelahanka  Yeshwantpur  \n",
       "0           0              0          0            0  \n",
       "1           0              0          0            0  \n",
       "2           0              0          0            0  \n",
       "3           0              0          0            0  \n",
       "4           0              0          0            0  \n",
       "\n",
       "[5 rows x 198 columns]"
      ]
     },
     "execution_count": 100,
     "metadata": {},
     "output_type": "execute_result"
    }
   ],
   "source": [
    "final_df = final_df.drop([\"menu_item\",\"service_type\",\"serve_to\"],axis = 1)\n",
    "final_df.head()"
   ]
  },
  {
   "cell_type": "code",
   "execution_count": 101,
   "id": "7ab3d031",
   "metadata": {},
   "outputs": [
    {
     "data": {
      "text/plain": [
       "<AxesSubplot:>"
      ]
     },
     "execution_count": 101,
     "metadata": {},
     "output_type": "execute_result"
    },
    {
     "data": {
      "image/png": "[encoded data removed]",
      "text/plain": [
       "<Figure size 1008x504 with 2 Axes>"
      ]
     },
     "metadata": {},
     "output_type": "display_data"
    }
   ],
   "source": [
    "sns.heatmap(df.corr(), annot=True, cmap=\"RdYlGn\", annot_kws={\"size\":15})"
   ]
  },
  {
   "cell_type": "code",
   "execution_count": 102,
   "id": "af7b3cf7",
   "metadata": {},
   "outputs": [
    {
     "data": {
      "text/plain": [
       "(51717, 198)"
      ]
     },
     "execution_count": 102,
     "metadata": {},
     "output_type": "execute_result"
    }
   ],
   "source": [
    "final_df.shape"
   ]
  },
  {
   "cell_type": "markdown",
   "id": "73d9b20e",
   "metadata": {},
   "source": [
    "# Feature Selection"
   ]
  },
  {
   "cell_type": "code",
   "execution_count": 103,
   "id": "667303c9",
   "metadata": {},
   "outputs": [
    {
     "data": {
      "text/html": [
       "<div>\n",
       "<style scoped>\n",
       "    .dataframe tbody tr th:only-of-type {\n",
       "        vertical-align: middle;\n",
       "    }\n",
       "\n",
       "    .dataframe tbody tr th {\n",
       "        vertical-align: top;\n",
       "    }\n",
       "\n",
       "    .dataframe thead th {\n",
       "        text-align: right;\n",
       "    }\n",
       "</style>\n",
       "<table border=\"1\" class=\"dataframe\">\n",
       "  <thead>\n",
       "    <tr style=\"text-align: right;\">\n",
       "      <th></th>\n",
       "      <th>online_order</th>\n",
       "      <th>book_table</th>\n",
       "      <th>votes</th>\n",
       "      <th>cost_for_two</th>\n",
       "      <th>Bakery</th>\n",
       "      <th>Bakery, Beverage Shop</th>\n",
       "      <th>Bakery, Cafe</th>\n",
       "      <th>Bakery, Dessert Parlor</th>\n",
       "      <th>Bakery, Food Court</th>\n",
       "      <th>Bakery, Kiosk</th>\n",
       "      <th>...</th>\n",
       "      <th>Ulsoor</th>\n",
       "      <th>Uttarahalli</th>\n",
       "      <th>Varthur Main Road, Whitefield</th>\n",
       "      <th>Vasanth Nagar</th>\n",
       "      <th>Vijay Nagar</th>\n",
       "      <th>West Bangalore</th>\n",
       "      <th>Whitefield</th>\n",
       "      <th>Wilson Garden</th>\n",
       "      <th>Yelahanka</th>\n",
       "      <th>Yeshwantpur</th>\n",
       "    </tr>\n",
       "  </thead>\n",
       "  <tbody>\n",
       "    <tr>\n",
       "      <th>0</th>\n",
       "      <td>1</td>\n",
       "      <td>1</td>\n",
       "      <td>775</td>\n",
       "      <td>800.0</td>\n",
       "      <td>0</td>\n",
       "      <td>0</td>\n",
       "      <td>0</td>\n",
       "      <td>0</td>\n",
       "      <td>0</td>\n",
       "      <td>0</td>\n",
       "      <td>...</td>\n",
       "      <td>0</td>\n",
       "      <td>0</td>\n",
       "      <td>0</td>\n",
       "      <td>0</td>\n",
       "      <td>0</td>\n",
       "      <td>0</td>\n",
       "      <td>0</td>\n",
       "      <td>0</td>\n",
       "      <td>0</td>\n",
       "      <td>0</td>\n",
       "    </tr>\n",
       "    <tr>\n",
       "      <th>1</th>\n",
       "      <td>1</td>\n",
       "      <td>0</td>\n",
       "      <td>787</td>\n",
       "      <td>800.0</td>\n",
       "      <td>0</td>\n",
       "      <td>0</td>\n",
       "      <td>0</td>\n",
       "      <td>0</td>\n",
       "      <td>0</td>\n",
       "      <td>0</td>\n",
       "      <td>...</td>\n",
       "      <td>0</td>\n",
       "      <td>0</td>\n",
       "      <td>0</td>\n",
       "      <td>0</td>\n",
       "      <td>0</td>\n",
       "      <td>0</td>\n",
       "      <td>0</td>\n",
       "      <td>0</td>\n",
       "      <td>0</td>\n",
       "      <td>0</td>\n",
       "    </tr>\n",
       "    <tr>\n",
       "      <th>2</th>\n",
       "      <td>1</td>\n",
       "      <td>0</td>\n",
       "      <td>918</td>\n",
       "      <td>800.0</td>\n",
       "      <td>0</td>\n",
       "      <td>0</td>\n",
       "      <td>0</td>\n",
       "      <td>0</td>\n",
       "      <td>0</td>\n",
       "      <td>0</td>\n",
       "      <td>...</td>\n",
       "      <td>0</td>\n",
       "      <td>0</td>\n",
       "      <td>0</td>\n",
       "      <td>0</td>\n",
       "      <td>0</td>\n",
       "      <td>0</td>\n",
       "      <td>0</td>\n",
       "      <td>0</td>\n",
       "      <td>0</td>\n",
       "      <td>0</td>\n",
       "    </tr>\n",
       "    <tr>\n",
       "      <th>3</th>\n",
       "      <td>0</td>\n",
       "      <td>0</td>\n",
       "      <td>88</td>\n",
       "      <td>300.0</td>\n",
       "      <td>0</td>\n",
       "      <td>0</td>\n",
       "      <td>0</td>\n",
       "      <td>0</td>\n",
       "      <td>0</td>\n",
       "      <td>0</td>\n",
       "      <td>...</td>\n",
       "      <td>0</td>\n",
       "      <td>0</td>\n",
       "      <td>0</td>\n",
       "      <td>0</td>\n",
       "      <td>0</td>\n",
       "      <td>0</td>\n",
       "      <td>0</td>\n",
       "      <td>0</td>\n",
       "      <td>0</td>\n",
       "      <td>0</td>\n",
       "    </tr>\n",
       "    <tr>\n",
       "      <th>4</th>\n",
       "      <td>0</td>\n",
       "      <td>0</td>\n",
       "      <td>166</td>\n",
       "      <td>600.0</td>\n",
       "      <td>0</td>\n",
       "      <td>0</td>\n",
       "      <td>0</td>\n",
       "      <td>0</td>\n",
       "      <td>0</td>\n",
       "      <td>0</td>\n",
       "      <td>...</td>\n",
       "      <td>0</td>\n",
       "      <td>0</td>\n",
       "      <td>0</td>\n",
       "      <td>0</td>\n",
       "      <td>0</td>\n",
       "      <td>0</td>\n",
       "      <td>0</td>\n",
       "      <td>0</td>\n",
       "      <td>0</td>\n",
       "      <td>0</td>\n",
       "    </tr>\n",
       "    <tr>\n",
       "      <th>...</th>\n",
       "      <td>...</td>\n",
       "      <td>...</td>\n",
       "      <td>...</td>\n",
       "      <td>...</td>\n",
       "      <td>...</td>\n",
       "      <td>...</td>\n",
       "      <td>...</td>\n",
       "      <td>...</td>\n",
       "      <td>...</td>\n",
       "      <td>...</td>\n",
       "      <td>...</td>\n",
       "      <td>...</td>\n",
       "      <td>...</td>\n",
       "      <td>...</td>\n",
       "      <td>...</td>\n",
       "      <td>...</td>\n",
       "      <td>...</td>\n",
       "      <td>...</td>\n",
       "      <td>...</td>\n",
       "      <td>...</td>\n",
       "      <td>...</td>\n",
       "    </tr>\n",
       "    <tr>\n",
       "      <th>51712</th>\n",
       "      <td>0</td>\n",
       "      <td>0</td>\n",
       "      <td>27</td>\n",
       "      <td>1500.0</td>\n",
       "      <td>0</td>\n",
       "      <td>0</td>\n",
       "      <td>0</td>\n",
       "      <td>0</td>\n",
       "      <td>0</td>\n",
       "      <td>0</td>\n",
       "      <td>...</td>\n",
       "      <td>0</td>\n",
       "      <td>0</td>\n",
       "      <td>0</td>\n",
       "      <td>0</td>\n",
       "      <td>0</td>\n",
       "      <td>0</td>\n",
       "      <td>1</td>\n",
       "      <td>0</td>\n",
       "      <td>0</td>\n",
       "      <td>0</td>\n",
       "    </tr>\n",
       "    <tr>\n",
       "      <th>51713</th>\n",
       "      <td>0</td>\n",
       "      <td>0</td>\n",
       "      <td>0</td>\n",
       "      <td>600.0</td>\n",
       "      <td>0</td>\n",
       "      <td>0</td>\n",
       "      <td>0</td>\n",
       "      <td>0</td>\n",
       "      <td>0</td>\n",
       "      <td>0</td>\n",
       "      <td>...</td>\n",
       "      <td>0</td>\n",
       "      <td>0</td>\n",
       "      <td>0</td>\n",
       "      <td>0</td>\n",
       "      <td>0</td>\n",
       "      <td>0</td>\n",
       "      <td>1</td>\n",
       "      <td>0</td>\n",
       "      <td>0</td>\n",
       "      <td>0</td>\n",
       "    </tr>\n",
       "    <tr>\n",
       "      <th>51714</th>\n",
       "      <td>0</td>\n",
       "      <td>0</td>\n",
       "      <td>0</td>\n",
       "      <td>2000.0</td>\n",
       "      <td>0</td>\n",
       "      <td>0</td>\n",
       "      <td>0</td>\n",
       "      <td>0</td>\n",
       "      <td>0</td>\n",
       "      <td>0</td>\n",
       "      <td>...</td>\n",
       "      <td>0</td>\n",
       "      <td>0</td>\n",
       "      <td>0</td>\n",
       "      <td>0</td>\n",
       "      <td>0</td>\n",
       "      <td>0</td>\n",
       "      <td>1</td>\n",
       "      <td>0</td>\n",
       "      <td>0</td>\n",
       "      <td>0</td>\n",
       "    </tr>\n",
       "    <tr>\n",
       "      <th>51715</th>\n",
       "      <td>0</td>\n",
       "      <td>1</td>\n",
       "      <td>236</td>\n",
       "      <td>2500.0</td>\n",
       "      <td>0</td>\n",
       "      <td>0</td>\n",
       "      <td>0</td>\n",
       "      <td>0</td>\n",
       "      <td>0</td>\n",
       "      <td>0</td>\n",
       "      <td>...</td>\n",
       "      <td>0</td>\n",
       "      <td>0</td>\n",
       "      <td>0</td>\n",
       "      <td>0</td>\n",
       "      <td>0</td>\n",
       "      <td>0</td>\n",
       "      <td>0</td>\n",
       "      <td>0</td>\n",
       "      <td>0</td>\n",
       "      <td>0</td>\n",
       "    </tr>\n",
       "    <tr>\n",
       "      <th>51716</th>\n",
       "      <td>0</td>\n",
       "      <td>0</td>\n",
       "      <td>13</td>\n",
       "      <td>1500.0</td>\n",
       "      <td>0</td>\n",
       "      <td>0</td>\n",
       "      <td>0</td>\n",
       "      <td>0</td>\n",
       "      <td>0</td>\n",
       "      <td>0</td>\n",
       "      <td>...</td>\n",
       "      <td>0</td>\n",
       "      <td>0</td>\n",
       "      <td>0</td>\n",
       "      <td>0</td>\n",
       "      <td>0</td>\n",
       "      <td>0</td>\n",
       "      <td>0</td>\n",
       "      <td>0</td>\n",
       "      <td>0</td>\n",
       "      <td>0</td>\n",
       "    </tr>\n",
       "  </tbody>\n",
       "</table>\n",
       "<p>51717 rows × 197 columns</p>\n",
       "</div>"
      ],
      "text/plain": [
       "       online_order  book_table  votes  cost_for_two  Bakery  \\\n",
       "0                 1           1    775         800.0       0   \n",
       "1                 1           0    787         800.0       0   \n",
       "2                 1           0    918         800.0       0   \n",
       "3                 0           0     88         300.0       0   \n",
       "4                 0           0    166         600.0       0   \n",
       "...             ...         ...    ...           ...     ...   \n",
       "51712             0           0     27        1500.0       0   \n",
       "51713             0           0      0         600.0       0   \n",
       "51714             0           0      0        2000.0       0   \n",
       "51715             0           1    236        2500.0       0   \n",
       "51716             0           0     13        1500.0       0   \n",
       "\n",
       "       Bakery, Beverage Shop  Bakery, Cafe  Bakery, Dessert Parlor  \\\n",
       "0                          0             0                       0   \n",
       "1                          0             0                       0   \n",
       "2                          0             0                       0   \n",
       "3                          0             0                       0   \n",
       "4                          0             0                       0   \n",
       "...                      ...           ...                     ...   \n",
       "51712                      0             0                       0   \n",
       "51713                      0             0                       0   \n",
       "51714                      0             0                       0   \n",
       "51715                      0             0                       0   \n",
       "51716                      0             0                       0   \n",
       "\n",
       "       Bakery, Food Court  Bakery, Kiosk  ...  Ulsoor  Uttarahalli  \\\n",
       "0                       0              0  ...       0            0   \n",
       "1                       0              0  ...       0            0   \n",
       "2                       0              0  ...       0            0   \n",
       "3                       0              0  ...       0            0   \n",
       "4                       0              0  ...       0            0   \n",
       "...                   ...            ...  ...     ...          ...   \n",
       "51712                   0              0  ...       0            0   \n",
       "51713                   0              0  ...       0            0   \n",
       "51714                   0              0  ...       0            0   \n",
       "51715                   0              0  ...       0            0   \n",
       "51716                   0              0  ...       0            0   \n",
       "\n",
       "       Varthur Main Road, Whitefield  Vasanth Nagar  Vijay Nagar  \\\n",
       "0                                  0              0            0   \n",
       "1                                  0              0            0   \n",
       "2                                  0              0            0   \n",
       "3                                  0              0            0   \n",
       "4                                  0              0            0   \n",
       "...                              ...            ...          ...   \n",
       "51712                              0              0            0   \n",
       "51713                              0              0            0   \n",
       "51714                              0              0            0   \n",
       "51715                              0              0            0   \n",
       "51716                              0              0            0   \n",
       "\n",
       "       West Bangalore  Whitefield  Wilson Garden  Yelahanka  Yeshwantpur  \n",
       "0                   0           0              0          0            0  \n",
       "1                   0           0              0          0            0  \n",
       "2                   0           0              0          0            0  \n",
       "3                   0           0              0          0            0  \n",
       "4                   0           0              0          0            0  \n",
       "...               ...         ...            ...        ...          ...  \n",
       "51712               0           1              0          0            0  \n",
       "51713               0           1              0          0            0  \n",
       "51714               0           1              0          0            0  \n",
       "51715               0           0              0          0            0  \n",
       "51716               0           0              0          0            0  \n",
       "\n",
       "[51717 rows x 197 columns]"
      ]
     },
     "execution_count": 103,
     "metadata": {},
     "output_type": "execute_result"
    }
   ],
   "source": [
    "# Splitting the features into independent and dependent variables\n",
    "X = final_df.drop(['rate'], axis = 1)\n",
    "X"
   ]
  },
  {
   "cell_type": "code",
   "execution_count": 104,
   "id": "f079b666",
   "metadata": {},
   "outputs": [
    {
     "data": {
      "text/plain": [
       "0        4.100000\n",
       "1        4.100000\n",
       "2        3.800000\n",
       "3        3.700000\n",
       "4        3.800000\n",
       "           ...   \n",
       "51712    3.600000\n",
       "51713    3.700449\n",
       "51714    3.700449\n",
       "51715    4.300000\n",
       "51716    3.400000\n",
       "Name: rate, Length: 51717, dtype: float64"
      ]
     },
     "execution_count": 104,
     "metadata": {},
     "output_type": "execute_result"
    }
   ],
   "source": [
    "y = final_df['rate']\n",
    "y"
   ]
  },
  {
   "cell_type": "markdown",
   "id": "8d7aa0d7",
   "metadata": {},
   "source": [
    "## Feature importance\n",
    "\n",
    "Feature importance gives you a score for each feature of your data, the higher the score the more important or relevant is the feature towards your output variable\n",
    "\n",
    "Feature importance is an in built class that comes with Tree Based Regressor, we will be using Extra Tree Regressor for extracting the top 10 features for the dataset"
   ]
  },
  {
   "cell_type": "code",
   "execution_count": 105,
   "id": "78c4f25e",
   "metadata": {},
   "outputs": [
    {
     "data": {
      "text/plain": [
       "ExtraTreesRegressor()"
      ]
     },
     "execution_count": 105,
     "metadata": {},
     "output_type": "execute_result"
    }
   ],
   "source": [
    "from sklearn.ensemble import ExtraTreesRegressor\n",
    "\n",
    "model = ExtraTreesRegressor()\n",
    "model.fit(X,y)"
   ]
  },
  {
   "cell_type": "code",
   "execution_count": 106,
   "id": "de3df51a",
   "metadata": {},
   "outputs": [
    {
     "name": "stdout",
     "output_type": "stream",
     "text": [
      "[ 2.34664948e-02  1.59756093e-01  3.55930500e-01  1.03357073e-01\n",
      "  2.07385880e-03  1.75724371e-07  6.04569986e-04  7.48602003e-04\n",
      "  4.60064424e-05  1.64254305e-14  2.36354204e-03 -6.05621227e-18\n",
      "  2.46910705e-03  1.31092522e-05  1.35164097e-03  5.75577288e-06\n",
      "  1.05808687e-04  1.23638649e-05  2.07906022e-03  3.39617956e-05\n",
      "  4.58191622e-04  8.71404904e-04  3.94026034e-07  1.02960790e-02\n",
      "  6.62411555e-04  7.72612818e-05  1.22731919e-03  1.90976399e-03\n",
      "  3.76549716e-05  4.17148670e-05  3.79760393e-04  1.34559009e-02\n",
      "  2.77622107e-03  7.25355769e-04  4.88265999e-07  7.17015288e-05\n",
      "  8.67432567e-05  1.18782577e-04  2.14670485e-06  3.82873348e-05\n",
      "  1.51523294e-04  5.39684869e-06  2.62083659e-05  5.42389648e-03\n",
      "  1.23893712e-02  2.36379101e-04  4.09401443e-04  1.99094489e-03\n",
      "  4.37286405e-06  9.11478988e-05  9.27648385e-04  1.72080384e-05\n",
      "  1.74492896e-04  5.69068229e-04  3.50131153e-05  4.54054096e-06\n",
      "  2.89643891e-06  3.16949085e-03  1.51947207e-06  1.05245192e-04\n",
      "  6.59885290e-06  7.84664172e-04  1.31386058e-04  3.65126624e-04\n",
      "  3.29836553e-03  8.67953526e-05  1.22039026e-04  1.22459674e-04\n",
      "  3.99861389e-04  1.02834495e-03  1.72050881e-15  5.80231740e-05\n",
      "  7.83745018e-05  2.56778136e-04  2.87417320e-06  1.14193042e-04\n",
      " -7.62560354e-18  2.78231775e-03  1.82570925e-04  2.47951115e-04\n",
      "  5.84664444e-04  3.39002410e-04  1.22156772e-02  7.26370845e-05\n",
      "  3.15221431e-04  8.05422910e-04  7.86158663e-04  9.69043018e-04\n",
      "  5.26852294e-06  7.44910872e-06  1.11536774e-05  8.64339084e-04\n",
      "  6.31237364e-04  3.89074008e-16  6.84414320e-04  2.40079213e-04\n",
      "  4.24621895e-03  1.15516874e-03  3.21637589e-04  1.81270275e-03\n",
      "  2.09340381e-03  1.63537856e-03  6.38541078e-05  2.59889327e-05\n",
      "  1.11675349e-02  4.44843002e-03  3.26427586e-03  8.62165098e-03\n",
      "  3.11827548e-03  1.04488006e-03  7.05957357e-03  4.10184272e-03\n",
      "  7.46929240e-03  5.68416394e-03  3.04507664e-04  3.61329138e-05\n",
      "  4.36865609e-03  4.74263476e-04  2.58282562e-03  2.93522290e-03\n",
      "  5.46954771e-03  3.07702619e-04  1.11992188e-03  6.02568962e-03\n",
      "  3.20453780e-03  4.92137778e-04  8.24313182e-03  1.47292647e-04\n",
      "  1.18084976e-03  3.16469900e-04  9.83520337e-04  9.21640014e-03\n",
      "  1.40093016e-03  7.68486258e-03 -1.93462336e-18  1.60435058e-04\n",
      "  7.06489689e-03  2.84956314e-03  2.95688014e-05  1.13369516e-03\n",
      "  3.90184884e-03  2.86097668e-03  1.21231201e-04  4.31559679e-06\n",
      "  2.84420748e-04  4.75442815e-03  6.12434284e-04  6.14893361e-04\n",
      "  4.51177861e-03  1.31021005e-02  6.18288089e-03  5.27807788e-03\n",
      "  1.27437565e-03  1.31366940e-03  5.29897277e-05  2.70438446e-03\n",
      "  7.55863212e-03  9.97861259e-05  3.25283526e-04  3.78175184e-03\n",
      "  9.44058986e-03  3.71553512e-05  1.76063199e-07  2.09429729e-03\n",
      "  3.32433410e-03  9.70411329e-05  3.09616948e-03  8.83233438e-04\n",
      "  1.13869794e-06  6.67526384e-04  3.50191681e-04  2.56091001e-03\n",
      "  2.16186877e-05  5.74730124e-04  3.91998718e-03  3.63426392e-03\n",
      "  6.24863173e-04  3.67889464e-04  4.88424108e-04  2.43541863e-05\n",
      "  5.87689554e-03  1.21590508e-03  2.90660348e-03  8.68038017e-04\n",
      "  5.68890237e-04  2.58748783e-03  8.79276549e-04  4.59307186e-03\n",
      "  6.59309345e-05  1.19249305e-03  1.28478321e-03  2.67913110e-04\n",
      "  1.00718980e-04  7.43947287e-03  7.01573001e-04  1.27097820e-05\n",
      "  8.30481093e-04]\n"
     ]
    }
   ],
   "source": [
    "print(model.feature_importances_)"
   ]
  },
  {
   "cell_type": "code",
   "execution_count": 108,
   "id": "9b1402d6",
   "metadata": {},
   "outputs": [
    {
     "data": {
      "image/png": "[encoded data removed]",
      "text/plain": [
       "<Figure size 1008x504 with 1 Axes>"
      ]
     },
     "metadata": {},
     "output_type": "display_data"
    }
   ],
   "source": [
    "#plotting graph of feature importances for better visualization\n",
    "\n",
    "feat_importances = pd.Series(model.feature_importances_, index=X.columns)\n",
    "feat_importances.nlargest(10).plot(kind='barh')\n",
    "plt.show()"
   ]
  },
  {
   "cell_type": "markdown",
   "id": "37831c52",
   "metadata": {},
   "source": [
    "* From the above graph we can see the top 10 most important features which are very important to train our model and get correct predictions. We will be using these features for our model building."
   ]
  },
  {
   "cell_type": "markdown",
   "id": "d033c8fd",
   "metadata": {},
   "source": [
    "# Model Building"
   ]
  },
  {
   "cell_type": "code",
   "execution_count": 109,
   "id": "4afafdf7",
   "metadata": {},
   "outputs": [],
   "source": [
    "#Spliting data into test and train\n",
    "\n",
    "from sklearn import metrics\n",
    "from sklearn.model_selection import train_test_split\n",
    "from sklearn.metrics import r2_score, mean_squared_error\n",
    "\n",
    "X_train, X_test, y_train, y_test = train_test_split(X , y , test_size = 0.20)"
   ]
  },
  {
   "cell_type": "markdown",
   "id": "82c239cc",
   "metadata": {},
   "source": [
    "# Linear Regression"
   ]
  },
  {
   "cell_type": "code",
   "execution_count": 110,
   "id": "88671ebb",
   "metadata": {},
   "outputs": [],
   "source": [
    "from sklearn.linear_model import LinearRegression\n",
    "\n",
    "lr = LinearRegression()\n",
    "\n",
    "lr.fit(X_train, y_train)\n",
    "\n",
    "lr_pred = lr.predict(X_test)"
   ]
  },
  {
   "cell_type": "code",
   "execution_count": 111,
   "id": "dcce63be",
   "metadata": {},
   "outputs": [
    {
     "name": "stdout",
     "output_type": "stream",
     "text": [
      "R-Square Score:  32.87139712860101\n"
     ]
    }
   ],
   "source": [
    "r2 = r2_score(y_test,lr_pred)\n",
    "print('R-Square Score: ',r2*100)"
   ]
  },
  {
   "cell_type": "code",
   "execution_count": 112,
   "id": "53d9ecad",
   "metadata": {},
   "outputs": [
    {
     "name": "stdout",
     "output_type": "stream",
     "text": [
      "Mean Absolute Error: 3.7 degrees.\n"
     ]
    }
   ],
   "source": [
    "# Calculate the absolute errors\n",
    "lr_errors = abs(lr_pred - y_test)\n",
    "# Print out the mean absolute error (mae)\n",
    "print('Mean Absolute Error:', round(np.mean(lr_pred), 2), 'degrees.')"
   ]
  },
  {
   "cell_type": "code",
   "execution_count": 113,
   "id": "02f7a3c3",
   "metadata": {},
   "outputs": [
    {
     "name": "stdout",
     "output_type": "stream",
     "text": [
      "Accuracy for Logistic Regression is : 92.98 %.\n"
     ]
    }
   ],
   "source": [
    "# Calculate mean absolute percentage error (MAPE)\n",
    "mape = 100 * (lr_errors / y_test)\n",
    "# Calculate and display accuracy\n",
    "lr_accuracy = 100 - np.mean(mape)\n",
    "print('Accuracy for Logistic Regression is :', round(lr_accuracy, 2), '%.')"
   ]
  },
  {
   "cell_type": "code",
   "execution_count": 114,
   "id": "0fd74d55",
   "metadata": {},
   "outputs": [
    {
     "name": "stdout",
     "output_type": "stream",
     "text": [
      "mse: 0.1047627043215776\n",
      "mae: 0.2450939960587941\n"
     ]
    }
   ],
   "source": [
    "from sklearn.metrics import mean_absolute_error,mean_squared_error\n",
    "print('mse:',metrics.mean_squared_error(y_test, lr_pred))\n",
    "print('mae:',metrics.mean_absolute_error(y_test, lr_pred))"
   ]
  },
  {
   "cell_type": "code",
   "execution_count": 115,
   "id": "1ee9a0fd",
   "metadata": {},
   "outputs": [
    {
     "name": "stderr",
     "output_type": "stream",
     "text": [
      "/Users/a/opt/anaconda3/lib/python3.8/site-packages/seaborn/distributions.py:2557: FutureWarning:\n",
      "\n",
      "`distplot` is a deprecated function and will be removed in a future version. Please adapt your code to use either `displot` (a figure-level function with similar flexibility) or `histplot` (an axes-level function for histograms).\n",
      "\n"
     ]
    },
    {
     "data": {
      "text/plain": [
       "<AxesSubplot:xlabel='rate', ylabel='Density'>"
      ]
     },
     "execution_count": 115,
     "metadata": {},
     "output_type": "execute_result"
    },
    {
     "data": {
      "image/png": "[encoded data removed]",
      "text/plain": [
       "<Figure size 1008x504 with 1 Axes>"
      ]
     },
     "metadata": {},
     "output_type": "display_data"
    }
   ],
   "source": [
    "sns.distplot(y_test-lr_pred)"
   ]
  },
  {
   "cell_type": "markdown",
   "id": "9cf9db71",
   "metadata": {},
   "source": [
    "# Decision tree Regressor"
   ]
  },
  {
   "cell_type": "code",
   "execution_count": 117,
   "id": "bf7f8b1d",
   "metadata": {},
   "outputs": [
    {
     "data": {
      "text/plain": [
       "DecisionTreeRegressor()"
      ]
     },
     "execution_count": 117,
     "metadata": {},
     "output_type": "execute_result"
    }
   ],
   "source": [
    "from sklearn.tree import DecisionTreeRegressor\n",
    "\n",
    "dtree = DecisionTreeRegressor(criterion='mse')\n",
    "dtree.fit(X_train, y_train)"
   ]
  },
  {
   "cell_type": "code",
   "execution_count": 118,
   "id": "255a3c75",
   "metadata": {},
   "outputs": [],
   "source": [
    "dtree_pred = dtree.predict(X_test)"
   ]
  },
  {
   "cell_type": "code",
   "execution_count": 119,
   "id": "70919a0e",
   "metadata": {},
   "outputs": [
    {
     "name": "stdout",
     "output_type": "stream",
     "text": [
      "R-Square Score:  86.3157602901578\n",
      "Mean Absolute Error: 3.7 degrees.\n",
      "Accuracy for Decision tree regressor is : 98.87 %.\n"
     ]
    }
   ],
   "source": [
    "r2 = r2_score(y_test,dtree_pred)\n",
    "print('R-Square Score: ',r2*100)\n",
    "\n",
    "# Calculate the absolute errors\n",
    "dtree_errors = abs(dtree_pred - y_test)\n",
    "# Print out the mean absolute error (mae)\n",
    "print('Mean Absolute Error:', round(np.mean(dtree_pred), 2), 'degrees.')\n",
    "\n",
    "# Calculate mean absolute percentage error (MAPE)\n",
    "mape = 100 * (dtree_errors / y_test)\n",
    "# Calculate and display accuracy\n",
    "dtree_accuracy = 100 - np.mean(mape)\n",
    "print('Accuracy for Decision tree regressor is :', round(dtree_accuracy, 2), '%.')"
   ]
  },
  {
   "cell_type": "markdown",
   "id": "e8b692e4",
   "metadata": {},
   "source": [
    "# Random Forest Regressor Algorithm"
   ]
  },
  {
   "cell_type": "code",
   "execution_count": 120,
   "id": "eb99324a",
   "metadata": {},
   "outputs": [
    {
     "data": {
      "text/plain": [
       "RandomForestRegressor()"
      ]
     },
     "execution_count": 120,
     "metadata": {},
     "output_type": "execute_result"
    }
   ],
   "source": [
    "from sklearn.ensemble import RandomForestRegressor\n",
    "\n",
    "random_forest_regressor = RandomForestRegressor()\n",
    "random_forest_regressor.fit(X_train, y_train)\n"
   ]
  },
  {
   "cell_type": "code",
   "execution_count": 121,
   "id": "2c1c1924",
   "metadata": {},
   "outputs": [],
   "source": [
    "rf_pred = random_forest_regressor.predict(X_test)"
   ]
  },
  {
   "cell_type": "code",
   "execution_count": 122,
   "id": "d9614316",
   "metadata": {},
   "outputs": [
    {
     "name": "stdout",
     "output_type": "stream",
     "text": [
      "R-Square Score:  90.50880758505792\n",
      "Mean Absolute Error: 3.7 degrees.\n",
      "Accuracy for random forest regressor is : 98.49 %.\n"
     ]
    }
   ],
   "source": [
    "r2 = r2_score(y_test,rf_pred)\n",
    "print('R-Square Score: ',r2*100)\n",
    "\n",
    "# Calculate the absolute errors\n",
    "rf_errors = abs(rf_pred - y_test)\n",
    "# Print out the mean absolute error (mae)\n",
    "print('Mean Absolute Error:', round(np.mean(rf_pred), 2), 'degrees.')\n",
    "\n",
    "# Calculate mean absolute percentage error (MAPE)\n",
    "mape = 100 * (rf_errors / y_test)\n",
    "# Calculate and display accuracy\n",
    "rf_accuracy = 100 - np.mean(mape)\n",
    "print('Accuracy for random forest regressor is :', round(rf_accuracy, 2), '%.')"
   ]
  },
  {
   "cell_type": "code",
   "execution_count": null,
   "id": "ba603432",
   "metadata": {},
   "outputs": [],
   "source": []
  }
 ],
 "metadata": {
  "kernelspec": {
   "display_name": "Python 3 (ipykernel)",
   "language": "python",
   "name": "python3"
  },
  "language_info": {
   "codemirror_mode": {
    "name": "ipython",
    "version": 3
   },
   "file_extension": ".py",
   "mimetype": "text/x-python",
   "name": "python",
   "nbconvert_exporter": "python",
   "pygments_lexer": "ipython3",
   "version": "3.8.8"
  }
 },
 "nbformat": 4,
 "nbformat_minor": 5
}
